{
 "cells": [
  {
   "cell_type": "code",
   "execution_count": 1,
   "metadata": {
    "execution": {
     "iopub.execute_input": "2021-02-13T23:42:22.053578Z",
     "iopub.status.busy": "2021-02-13T23:42:22.053088Z",
     "iopub.status.idle": "2021-02-13T23:42:47.231241Z",
     "shell.execute_reply": "2021-02-13T23:42:47.229321Z",
     "shell.execute_reply.started": "2021-02-13T23:42:22.053451Z"
    }
   },
   "outputs": [
    {
     "name": "stdout",
     "output_type": "stream",
     "text": [
      "Populating the interactive namespace from numpy and matplotlib\n"
     ]
    }
   ],
   "source": [
    "%pylab inline\n",
    "import warnings\n",
    "from statsmodels.tools.sm_exceptions import HessianInversionWarning\n",
    "from statsmodels.tools.sm_exceptions import ConvergenceWarning\n",
    "warnings.filterwarnings('ignore')\n",
    "import warnings\n",
    "warnings.simplefilter('once', category=UserWarning)\n",
    "warnings.simplefilter('once', category=HessianInversionWarning)\n",
    "warnings.simplefilter('once', category=ConvergenceWarning)\n",
    "\n",
    "\n",
    "                \n",
    "                \n",
    "from collections import defaultdict\n",
    "from scipy.stats import nbinom\n",
    "from scipy import optimize\n",
    "from scipy.special import digamma\n",
    "from scipy.special import polygamma\n",
    "from pyfastnbfit import fastfit_negbin\n",
    "from scvi.core.distributions import NegativeBinomial\n",
    "\n",
    "import pandas as pd"
   ]
  },
  {
   "cell_type": "code",
   "execution_count": 31,
   "metadata": {
    "execution": {
     "iopub.execute_input": "2021-02-14T05:12:54.915893Z",
     "iopub.status.busy": "2021-02-14T05:12:54.915338Z",
     "iopub.status.idle": "2021-02-14T05:12:54.928212Z",
     "shell.execute_reply": "2021-02-14T05:12:54.927408Z",
     "shell.execute_reply.started": "2021-02-14T05:12:54.915834Z"
    }
   },
   "outputs": [],
   "source": [
    "def gphi(phi, y):\n",
    "    #print(len(y))\n",
    "    ybar = np.mean(y)\n",
    "    n = len(y)\n",
    "    sumterm = 0\n",
    "    for i in range(n):\n",
    "        for v in range(int(y[i])):\n",
    "            sumterm += v/(1+phi*v)\n",
    "    g2 = np.log(1+phi*ybar)\n",
    "    g1 = ybar - phi/n*sumterm\n",
    "    return g2/g1\n",
    "    \n",
    "def fit_nb_fixedpoint(y, max_iter=2000, xtol=1e-3):\n",
    "    ybar = np.mean(y)\n",
    "    p_y_gt_1 = len(y[y>=1]) /len(y)\n",
    "    phi_init = 1/p_y_gt_1 - 1/ybar\n",
    "    print(phi_init)\n",
    "    phi = optimize.fixed_point(gphi, phi_init, args=([y]), xtol=xtol, maxiter=max_iter)\n",
    "    return {\"mu\": ybar, \"theta\": 1/phi}"
   ]
  },
  {
   "cell_type": "code",
   "execution_count": 34,
   "metadata": {
    "execution": {
     "iopub.execute_input": "2021-02-14T05:13:26.019318Z",
     "iopub.status.busy": "2021-02-14T05:13:26.018806Z",
     "iopub.status.idle": "2021-02-14T05:13:45.824920Z",
     "shell.execute_reply": "2021-02-14T05:13:45.823225Z",
     "shell.execute_reply.started": "2021-02-14T05:13:26.019260Z"
    }
   },
   "outputs": [
    {
     "name": "stdout",
     "output_type": "stream",
     "text": [
      "2.0613650029404993\n"
     ]
    },
    {
     "ename": "RuntimeError",
     "evalue": "Failed to converge after 2000 iterations, value is nan",
     "output_type": "error",
     "traceback": [
      "\u001b[0;31m---------------------------------------------------------------------------\u001b[0m",
      "\u001b[0;31mRuntimeError\u001b[0m                              Traceback (most recent call last)",
      "\u001b[0;32m<ipython-input-34-7728ae89e4fa>\u001b[0m in \u001b[0;36m<module>\u001b[0;34m\u001b[0m\n\u001b[1;32m      1\u001b[0m \u001b[0mnb\u001b[0m \u001b[0;34m=\u001b[0m \u001b[0mNegativeBinomial\u001b[0m\u001b[0;34m(\u001b[0m\u001b[0mmu\u001b[0m\u001b[0;34m=\u001b[0m\u001b[0;36m20\u001b[0m\u001b[0;34m,\u001b[0m \u001b[0mtheta\u001b[0m\u001b[0;34m=\u001b[0m\u001b[0;36m0.13\u001b[0m\u001b[0;34m)\u001b[0m\u001b[0;34m\u001b[0m\u001b[0;34m\u001b[0m\u001b[0m\n\u001b[1;32m      2\u001b[0m \u001b[0my\u001b[0m \u001b[0;34m=\u001b[0m \u001b[0mnb\u001b[0m\u001b[0;34m.\u001b[0m\u001b[0msample\u001b[0m\u001b[0;34m(\u001b[0m\u001b[0;34m(\u001b[0m\u001b[0;36m200\u001b[0m\u001b[0;34m,\u001b[0m\u001b[0;34m)\u001b[0m\u001b[0;34m)\u001b[0m\u001b[0;34m.\u001b[0m\u001b[0mnumpy\u001b[0m\u001b[0;34m(\u001b[0m\u001b[0;34m)\u001b[0m\u001b[0;34m\u001b[0m\u001b[0;34m\u001b[0m\u001b[0m\n\u001b[0;32m----> 3\u001b[0;31m \u001b[0mfit_nb_fixedpoint\u001b[0m\u001b[0;34m(\u001b[0m\u001b[0my\u001b[0m\u001b[0;34m)\u001b[0m\u001b[0;34m\u001b[0m\u001b[0;34m\u001b[0m\u001b[0m\n\u001b[0m",
      "\u001b[0;32m<ipython-input-31-d72632b5340c>\u001b[0m in \u001b[0;36mfit_nb_fixedpoint\u001b[0;34m(y, max_iter, xtol)\u001b[0m\n\u001b[1;32m     15\u001b[0m     \u001b[0mphi_init\u001b[0m \u001b[0;34m=\u001b[0m \u001b[0mlen\u001b[0m\u001b[0;34m(\u001b[0m\u001b[0my\u001b[0m\u001b[0;34m)\u001b[0m\u001b[0;34m/\u001b[0m\u001b[0mlen\u001b[0m\u001b[0;34m(\u001b[0m\u001b[0my\u001b[0m\u001b[0;34m[\u001b[0m\u001b[0my\u001b[0m\u001b[0;34m>=\u001b[0m\u001b[0;36m1\u001b[0m\u001b[0;34m]\u001b[0m\u001b[0;34m)\u001b[0m \u001b[0;34m-\u001b[0m \u001b[0;36m1\u001b[0m\u001b[0;34m/\u001b[0m\u001b[0mybar\u001b[0m\u001b[0;34m\u001b[0m\u001b[0;34m\u001b[0m\u001b[0m\n\u001b[1;32m     16\u001b[0m     \u001b[0mprint\u001b[0m\u001b[0;34m(\u001b[0m\u001b[0mphi_init\u001b[0m\u001b[0;34m)\u001b[0m\u001b[0;34m\u001b[0m\u001b[0;34m\u001b[0m\u001b[0m\n\u001b[0;32m---> 17\u001b[0;31m     \u001b[0mphi\u001b[0m \u001b[0;34m=\u001b[0m \u001b[0moptimize\u001b[0m\u001b[0;34m.\u001b[0m\u001b[0mfixed_point\u001b[0m\u001b[0;34m(\u001b[0m\u001b[0mgphi\u001b[0m\u001b[0;34m,\u001b[0m \u001b[0mphi_init\u001b[0m\u001b[0;34m,\u001b[0m \u001b[0margs\u001b[0m\u001b[0;34m=\u001b[0m\u001b[0;34m(\u001b[0m\u001b[0;34m[\u001b[0m\u001b[0my\u001b[0m\u001b[0;34m]\u001b[0m\u001b[0;34m)\u001b[0m\u001b[0;34m,\u001b[0m \u001b[0mxtol\u001b[0m\u001b[0;34m=\u001b[0m\u001b[0mxtol\u001b[0m\u001b[0;34m,\u001b[0m \u001b[0mmaxiter\u001b[0m\u001b[0;34m=\u001b[0m\u001b[0mmax_iter\u001b[0m\u001b[0;34m)\u001b[0m\u001b[0;34m\u001b[0m\u001b[0;34m\u001b[0m\u001b[0m\n\u001b[0m\u001b[1;32m     18\u001b[0m     \u001b[0;32mreturn\u001b[0m \u001b[0;34m{\u001b[0m\u001b[0;34m\"mu\"\u001b[0m\u001b[0;34m:\u001b[0m \u001b[0mybar\u001b[0m\u001b[0;34m,\u001b[0m \u001b[0;34m\"theta\"\u001b[0m\u001b[0;34m:\u001b[0m \u001b[0;36m1\u001b[0m\u001b[0;34m/\u001b[0m\u001b[0mphi\u001b[0m\u001b[0;34m}\u001b[0m\u001b[0;34m\u001b[0m\u001b[0;34m\u001b[0m\u001b[0m\n",
      "\u001b[0;32m~/software/anaconda3/envs/pyfastnbfit/lib/python3.8/site-packages/scipy/optimize/minpack.py\u001b[0m in \u001b[0;36mfixed_point\u001b[0;34m(func, x0, args, xtol, maxiter, method)\u001b[0m\n\u001b[1;32m    935\u001b[0m     \u001b[0muse_accel\u001b[0m \u001b[0;34m=\u001b[0m \u001b[0;34m{\u001b[0m\u001b[0;34m'del2'\u001b[0m\u001b[0;34m:\u001b[0m \u001b[0;32mTrue\u001b[0m\u001b[0;34m,\u001b[0m \u001b[0;34m'iteration'\u001b[0m\u001b[0;34m:\u001b[0m \u001b[0;32mFalse\u001b[0m\u001b[0;34m}\u001b[0m\u001b[0;34m[\u001b[0m\u001b[0mmethod\u001b[0m\u001b[0;34m]\u001b[0m\u001b[0;34m\u001b[0m\u001b[0;34m\u001b[0m\u001b[0m\n\u001b[1;32m    936\u001b[0m     \u001b[0mx0\u001b[0m \u001b[0;34m=\u001b[0m \u001b[0m_asarray_validated\u001b[0m\u001b[0;34m(\u001b[0m\u001b[0mx0\u001b[0m\u001b[0;34m,\u001b[0m \u001b[0mas_inexact\u001b[0m\u001b[0;34m=\u001b[0m\u001b[0;32mTrue\u001b[0m\u001b[0;34m)\u001b[0m\u001b[0;34m\u001b[0m\u001b[0;34m\u001b[0m\u001b[0m\n\u001b[0;32m--> 937\u001b[0;31m     \u001b[0;32mreturn\u001b[0m \u001b[0m_fixed_point_helper\u001b[0m\u001b[0;34m(\u001b[0m\u001b[0mfunc\u001b[0m\u001b[0;34m,\u001b[0m \u001b[0mx0\u001b[0m\u001b[0;34m,\u001b[0m \u001b[0margs\u001b[0m\u001b[0;34m,\u001b[0m \u001b[0mxtol\u001b[0m\u001b[0;34m,\u001b[0m \u001b[0mmaxiter\u001b[0m\u001b[0;34m,\u001b[0m \u001b[0muse_accel\u001b[0m\u001b[0;34m)\u001b[0m\u001b[0;34m\u001b[0m\u001b[0;34m\u001b[0m\u001b[0m\n\u001b[0m",
      "\u001b[0;32m~/software/anaconda3/envs/pyfastnbfit/lib/python3.8/site-packages/scipy/optimize/minpack.py\u001b[0m in \u001b[0;36m_fixed_point_helper\u001b[0;34m(func, x0, args, xtol, maxiter, use_accel)\u001b[0m\n\u001b[1;32m    889\u001b[0m         \u001b[0mp0\u001b[0m \u001b[0;34m=\u001b[0m \u001b[0mp\u001b[0m\u001b[0;34m\u001b[0m\u001b[0;34m\u001b[0m\u001b[0m\n\u001b[1;32m    890\u001b[0m     \u001b[0mmsg\u001b[0m \u001b[0;34m=\u001b[0m \u001b[0;34m\"Failed to converge after %d iterations, value is %s\"\u001b[0m \u001b[0;34m%\u001b[0m \u001b[0;34m(\u001b[0m\u001b[0mmaxiter\u001b[0m\u001b[0;34m,\u001b[0m \u001b[0mp\u001b[0m\u001b[0;34m)\u001b[0m\u001b[0;34m\u001b[0m\u001b[0;34m\u001b[0m\u001b[0m\n\u001b[0;32m--> 891\u001b[0;31m     \u001b[0;32mraise\u001b[0m \u001b[0mRuntimeError\u001b[0m\u001b[0;34m(\u001b[0m\u001b[0mmsg\u001b[0m\u001b[0;34m)\u001b[0m\u001b[0;34m\u001b[0m\u001b[0;34m\u001b[0m\u001b[0m\n\u001b[0m\u001b[1;32m    892\u001b[0m \u001b[0;34m\u001b[0m\u001b[0m\n\u001b[1;32m    893\u001b[0m \u001b[0;34m\u001b[0m\u001b[0m\n",
      "\u001b[0;31mRuntimeError\u001b[0m: Failed to converge after 2000 iterations, value is nan"
     ]
    }
   ],
   "source": [
    "nb = NegativeBinomial(mu=20, theta=0.2)\n",
    "y = nb.sample((200,)).numpy()\n",
    "fit_nb_fixedpoint(y)"
   ]
  },
  {
   "cell_type": "code",
   "execution_count": 35,
   "metadata": {
    "execution": {
     "iopub.execute_input": "2021-02-14T05:13:51.537084Z",
     "iopub.status.busy": "2021-02-14T05:13:51.536861Z",
     "iopub.status.idle": "2021-02-14T05:14:07.499912Z",
     "shell.execute_reply": "2021-02-14T05:14:07.499006Z",
     "shell.execute_reply.started": "2021-02-14T05:13:51.537062Z"
    }
   },
   "outputs": [
    {
     "name": "stdout",
     "output_type": "stream",
     "text": [
      "1.5998562308098776\n"
     ]
    },
    {
     "ename": "RuntimeError",
     "evalue": "Failed to converge after 2000 iterations, value is nan",
     "output_type": "error",
     "traceback": [
      "\u001b[0;31m---------------------------------------------------------------------------\u001b[0m",
      "\u001b[0;31mRuntimeError\u001b[0m                              Traceback (most recent call last)",
      "\u001b[0;32m<ipython-input-35-5246d492e4e9>\u001b[0m in \u001b[0;36m<module>\u001b[0;34m\u001b[0m\n\u001b[1;32m      1\u001b[0m \u001b[0mnb\u001b[0m \u001b[0;34m=\u001b[0m \u001b[0mNegativeBinomial\u001b[0m\u001b[0;34m(\u001b[0m\u001b[0mmu\u001b[0m\u001b[0;34m=\u001b[0m\u001b[0;36m20\u001b[0m\u001b[0;34m,\u001b[0m \u001b[0mtheta\u001b[0m\u001b[0;34m=\u001b[0m\u001b[0;36m0.2\u001b[0m\u001b[0;34m)\u001b[0m\u001b[0;34m\u001b[0m\u001b[0;34m\u001b[0m\u001b[0m\n\u001b[1;32m      2\u001b[0m \u001b[0my\u001b[0m \u001b[0;34m=\u001b[0m \u001b[0mnb\u001b[0m\u001b[0;34m.\u001b[0m\u001b[0msample\u001b[0m\u001b[0;34m(\u001b[0m\u001b[0;34m(\u001b[0m\u001b[0;36m200\u001b[0m\u001b[0;34m,\u001b[0m\u001b[0;34m)\u001b[0m\u001b[0;34m)\u001b[0m\u001b[0;34m.\u001b[0m\u001b[0mnumpy\u001b[0m\u001b[0;34m(\u001b[0m\u001b[0;34m)\u001b[0m\u001b[0;34m\u001b[0m\u001b[0;34m\u001b[0m\u001b[0m\n\u001b[0;32m----> 3\u001b[0;31m \u001b[0mfit_nb_fixedpoint\u001b[0m\u001b[0;34m(\u001b[0m\u001b[0my\u001b[0m\u001b[0;34m)\u001b[0m\u001b[0;34m\u001b[0m\u001b[0;34m\u001b[0m\u001b[0m\n\u001b[0m",
      "\u001b[0;32m<ipython-input-31-d72632b5340c>\u001b[0m in \u001b[0;36mfit_nb_fixedpoint\u001b[0;34m(y, max_iter, xtol)\u001b[0m\n\u001b[1;32m     15\u001b[0m     \u001b[0mphi_init\u001b[0m \u001b[0;34m=\u001b[0m \u001b[0mlen\u001b[0m\u001b[0;34m(\u001b[0m\u001b[0my\u001b[0m\u001b[0;34m)\u001b[0m\u001b[0;34m/\u001b[0m\u001b[0mlen\u001b[0m\u001b[0;34m(\u001b[0m\u001b[0my\u001b[0m\u001b[0;34m[\u001b[0m\u001b[0my\u001b[0m\u001b[0;34m>=\u001b[0m\u001b[0;36m1\u001b[0m\u001b[0;34m]\u001b[0m\u001b[0;34m)\u001b[0m \u001b[0;34m-\u001b[0m \u001b[0;36m1\u001b[0m\u001b[0;34m/\u001b[0m\u001b[0mybar\u001b[0m\u001b[0;34m\u001b[0m\u001b[0;34m\u001b[0m\u001b[0m\n\u001b[1;32m     16\u001b[0m     \u001b[0mprint\u001b[0m\u001b[0;34m(\u001b[0m\u001b[0mphi_init\u001b[0m\u001b[0;34m)\u001b[0m\u001b[0;34m\u001b[0m\u001b[0;34m\u001b[0m\u001b[0m\n\u001b[0;32m---> 17\u001b[0;31m     \u001b[0mphi\u001b[0m \u001b[0;34m=\u001b[0m \u001b[0moptimize\u001b[0m\u001b[0;34m.\u001b[0m\u001b[0mfixed_point\u001b[0m\u001b[0;34m(\u001b[0m\u001b[0mgphi\u001b[0m\u001b[0;34m,\u001b[0m \u001b[0mphi_init\u001b[0m\u001b[0;34m,\u001b[0m \u001b[0margs\u001b[0m\u001b[0;34m=\u001b[0m\u001b[0;34m(\u001b[0m\u001b[0;34m[\u001b[0m\u001b[0my\u001b[0m\u001b[0;34m]\u001b[0m\u001b[0;34m)\u001b[0m\u001b[0;34m,\u001b[0m \u001b[0mxtol\u001b[0m\u001b[0;34m=\u001b[0m\u001b[0mxtol\u001b[0m\u001b[0;34m,\u001b[0m \u001b[0mmaxiter\u001b[0m\u001b[0;34m=\u001b[0m\u001b[0mmax_iter\u001b[0m\u001b[0;34m)\u001b[0m\u001b[0;34m\u001b[0m\u001b[0;34m\u001b[0m\u001b[0m\n\u001b[0m\u001b[1;32m     18\u001b[0m     \u001b[0;32mreturn\u001b[0m \u001b[0;34m{\u001b[0m\u001b[0;34m\"mu\"\u001b[0m\u001b[0;34m:\u001b[0m \u001b[0mybar\u001b[0m\u001b[0;34m,\u001b[0m \u001b[0;34m\"theta\"\u001b[0m\u001b[0;34m:\u001b[0m \u001b[0;36m1\u001b[0m\u001b[0;34m/\u001b[0m\u001b[0mphi\u001b[0m\u001b[0;34m}\u001b[0m\u001b[0;34m\u001b[0m\u001b[0;34m\u001b[0m\u001b[0m\n",
      "\u001b[0;32m~/software/anaconda3/envs/pyfastnbfit/lib/python3.8/site-packages/scipy/optimize/minpack.py\u001b[0m in \u001b[0;36mfixed_point\u001b[0;34m(func, x0, args, xtol, maxiter, method)\u001b[0m\n\u001b[1;32m    935\u001b[0m     \u001b[0muse_accel\u001b[0m \u001b[0;34m=\u001b[0m \u001b[0;34m{\u001b[0m\u001b[0;34m'del2'\u001b[0m\u001b[0;34m:\u001b[0m \u001b[0;32mTrue\u001b[0m\u001b[0;34m,\u001b[0m \u001b[0;34m'iteration'\u001b[0m\u001b[0;34m:\u001b[0m \u001b[0;32mFalse\u001b[0m\u001b[0;34m}\u001b[0m\u001b[0;34m[\u001b[0m\u001b[0mmethod\u001b[0m\u001b[0;34m]\u001b[0m\u001b[0;34m\u001b[0m\u001b[0;34m\u001b[0m\u001b[0m\n\u001b[1;32m    936\u001b[0m     \u001b[0mx0\u001b[0m \u001b[0;34m=\u001b[0m \u001b[0m_asarray_validated\u001b[0m\u001b[0;34m(\u001b[0m\u001b[0mx0\u001b[0m\u001b[0;34m,\u001b[0m \u001b[0mas_inexact\u001b[0m\u001b[0;34m=\u001b[0m\u001b[0;32mTrue\u001b[0m\u001b[0;34m)\u001b[0m\u001b[0;34m\u001b[0m\u001b[0;34m\u001b[0m\u001b[0m\n\u001b[0;32m--> 937\u001b[0;31m     \u001b[0;32mreturn\u001b[0m \u001b[0m_fixed_point_helper\u001b[0m\u001b[0;34m(\u001b[0m\u001b[0mfunc\u001b[0m\u001b[0;34m,\u001b[0m \u001b[0mx0\u001b[0m\u001b[0;34m,\u001b[0m \u001b[0margs\u001b[0m\u001b[0;34m,\u001b[0m \u001b[0mxtol\u001b[0m\u001b[0;34m,\u001b[0m \u001b[0mmaxiter\u001b[0m\u001b[0;34m,\u001b[0m \u001b[0muse_accel\u001b[0m\u001b[0;34m)\u001b[0m\u001b[0;34m\u001b[0m\u001b[0;34m\u001b[0m\u001b[0m\n\u001b[0m",
      "\u001b[0;32m~/software/anaconda3/envs/pyfastnbfit/lib/python3.8/site-packages/scipy/optimize/minpack.py\u001b[0m in \u001b[0;36m_fixed_point_helper\u001b[0;34m(func, x0, args, xtol, maxiter, use_accel)\u001b[0m\n\u001b[1;32m    889\u001b[0m         \u001b[0mp0\u001b[0m \u001b[0;34m=\u001b[0m \u001b[0mp\u001b[0m\u001b[0;34m\u001b[0m\u001b[0;34m\u001b[0m\u001b[0m\n\u001b[1;32m    890\u001b[0m     \u001b[0mmsg\u001b[0m \u001b[0;34m=\u001b[0m \u001b[0;34m\"Failed to converge after %d iterations, value is %s\"\u001b[0m \u001b[0;34m%\u001b[0m \u001b[0;34m(\u001b[0m\u001b[0mmaxiter\u001b[0m\u001b[0;34m,\u001b[0m \u001b[0mp\u001b[0m\u001b[0;34m)\u001b[0m\u001b[0;34m\u001b[0m\u001b[0;34m\u001b[0m\u001b[0m\n\u001b[0;32m--> 891\u001b[0;31m     \u001b[0;32mraise\u001b[0m \u001b[0mRuntimeError\u001b[0m\u001b[0;34m(\u001b[0m\u001b[0mmsg\u001b[0m\u001b[0;34m)\u001b[0m\u001b[0;34m\u001b[0m\u001b[0;34m\u001b[0m\u001b[0m\n\u001b[0m\u001b[1;32m    892\u001b[0m \u001b[0;34m\u001b[0m\u001b[0m\n\u001b[1;32m    893\u001b[0m \u001b[0;34m\u001b[0m\u001b[0m\n",
      "\u001b[0;31mRuntimeError\u001b[0m: Failed to converge after 2000 iterations, value is nan"
     ]
    }
   ],
   "source": [
    "nb = NegativeBinomial(mu=20, theta=0.2)\n",
    "y = nb.sample((200,)).numpy()\n",
    "fit_nb_fixedpoint(y)"
   ]
  },
  {
   "cell_type": "code",
   "execution_count": 29,
   "metadata": {
    "execution": {
     "iopub.execute_input": "2021-02-14T05:10:01.113323Z",
     "iopub.status.busy": "2021-02-14T05:10:01.112795Z",
     "iopub.status.idle": "2021-02-14T05:10:01.121048Z",
     "shell.execute_reply": "2021-02-14T05:10:01.119979Z",
     "shell.execute_reply.started": "2021-02-14T05:10:01.113266Z"
    }
   },
   "outputs": [
    {
     "data": {
      "text/plain": [
       "98"
      ]
     },
     "execution_count": 29,
     "metadata": {},
     "output_type": "execute_result"
    }
   ],
   "source": [
    "len(y[y>=1])"
   ]
  },
  {
   "cell_type": "code",
   "execution_count": 14,
   "metadata": {
    "execution": {
     "iopub.execute_input": "2021-02-13T23:53:08.419546Z",
     "iopub.status.busy": "2021-02-13T23:53:08.418982Z",
     "iopub.status.idle": "2021-02-13T23:53:24.973779Z",
     "shell.execute_reply": "2021-02-13T23:53:24.972794Z",
     "shell.execute_reply.started": "2021-02-13T23:53:08.419483Z"
    }
   },
   "outputs": [
    {
     "ename": "KeyboardInterrupt",
     "evalue": "",
     "output_type": "error",
     "traceback": [
      "\u001b[0;31m---------------------------------------------------------------------------\u001b[0m",
      "\u001b[0;31mKeyboardInterrupt\u001b[0m                         Traceback (most recent call last)",
      "\u001b[0;32m<ipython-input-14-8d8db9649b2d>\u001b[0m in \u001b[0;36m<module>\u001b[0;34m\u001b[0m\n\u001b[0;32m----> 1\u001b[0;31m \u001b[0mfit_nb_fixedpoint\u001b[0m\u001b[0;34m(\u001b[0m\u001b[0my\u001b[0m\u001b[0;34m)\u001b[0m\u001b[0;34m\u001b[0m\u001b[0;34m\u001b[0m\u001b[0m\n\u001b[0m",
      "\u001b[0;32m<ipython-input-13-e35dcd2f8044>\u001b[0m in \u001b[0;36mfit_nb_fixedpoint\u001b[0;34m(y, max_iter, xtol)\u001b[0m\n\u001b[1;32m     14\u001b[0m     \u001b[0mybar\u001b[0m \u001b[0;34m=\u001b[0m \u001b[0mnp\u001b[0m\u001b[0;34m.\u001b[0m\u001b[0mmean\u001b[0m\u001b[0;34m(\u001b[0m\u001b[0my\u001b[0m\u001b[0;34m)\u001b[0m\u001b[0;34m\u001b[0m\u001b[0;34m\u001b[0m\u001b[0m\n\u001b[1;32m     15\u001b[0m     \u001b[0mphi_init\u001b[0m \u001b[0;34m=\u001b[0m \u001b[0mlen\u001b[0m\u001b[0;34m(\u001b[0m\u001b[0my\u001b[0m\u001b[0;34m)\u001b[0m\u001b[0;34m/\u001b[0m\u001b[0mlen\u001b[0m\u001b[0;34m(\u001b[0m\u001b[0my\u001b[0m\u001b[0;34m[\u001b[0m\u001b[0my\u001b[0m\u001b[0;34m>=\u001b[0m\u001b[0;36m1\u001b[0m\u001b[0;34m]\u001b[0m\u001b[0;34m)\u001b[0m \u001b[0;34m-\u001b[0m \u001b[0;36m1\u001b[0m\u001b[0;34m/\u001b[0m\u001b[0mybar\u001b[0m\u001b[0;34m\u001b[0m\u001b[0;34m\u001b[0m\u001b[0m\n\u001b[0;32m---> 16\u001b[0;31m     \u001b[0mphi\u001b[0m \u001b[0;34m=\u001b[0m \u001b[0moptimize\u001b[0m\u001b[0;34m.\u001b[0m\u001b[0mfixed_point\u001b[0m\u001b[0;34m(\u001b[0m\u001b[0mgphi\u001b[0m\u001b[0;34m,\u001b[0m \u001b[0mphi_init\u001b[0m\u001b[0;34m,\u001b[0m \u001b[0margs\u001b[0m\u001b[0;34m=\u001b[0m\u001b[0;34m(\u001b[0m\u001b[0;34m[\u001b[0m\u001b[0my\u001b[0m\u001b[0;34m]\u001b[0m\u001b[0;34m)\u001b[0m\u001b[0;34m,\u001b[0m \u001b[0mxtol\u001b[0m\u001b[0;34m=\u001b[0m\u001b[0mxtol\u001b[0m\u001b[0;34m,\u001b[0m \u001b[0mmaxiter\u001b[0m\u001b[0;34m=\u001b[0m\u001b[0mmax_iter\u001b[0m\u001b[0;34m)\u001b[0m\u001b[0;34m\u001b[0m\u001b[0;34m\u001b[0m\u001b[0m\n\u001b[0m\u001b[1;32m     17\u001b[0m     \u001b[0;32mreturn\u001b[0m \u001b[0;34m{\u001b[0m\u001b[0;34m\"mu\"\u001b[0m\u001b[0;34m:\u001b[0m \u001b[0mybar\u001b[0m\u001b[0;34m,\u001b[0m \u001b[0;34m\"theta\"\u001b[0m\u001b[0;34m:\u001b[0m \u001b[0;36m1\u001b[0m\u001b[0;34m/\u001b[0m\u001b[0mphi\u001b[0m\u001b[0;34m}\u001b[0m\u001b[0;34m\u001b[0m\u001b[0;34m\u001b[0m\u001b[0m\n",
      "\u001b[0;32m~/software/anaconda3/envs/pyfastnbfit/lib/python3.8/site-packages/scipy/optimize/minpack.py\u001b[0m in \u001b[0;36mfixed_point\u001b[0;34m(func, x0, args, xtol, maxiter, method)\u001b[0m\n\u001b[1;32m    935\u001b[0m     \u001b[0muse_accel\u001b[0m \u001b[0;34m=\u001b[0m \u001b[0;34m{\u001b[0m\u001b[0;34m'del2'\u001b[0m\u001b[0;34m:\u001b[0m \u001b[0;32mTrue\u001b[0m\u001b[0;34m,\u001b[0m \u001b[0;34m'iteration'\u001b[0m\u001b[0;34m:\u001b[0m \u001b[0;32mFalse\u001b[0m\u001b[0;34m}\u001b[0m\u001b[0;34m[\u001b[0m\u001b[0mmethod\u001b[0m\u001b[0;34m]\u001b[0m\u001b[0;34m\u001b[0m\u001b[0;34m\u001b[0m\u001b[0m\n\u001b[1;32m    936\u001b[0m     \u001b[0mx0\u001b[0m \u001b[0;34m=\u001b[0m \u001b[0m_asarray_validated\u001b[0m\u001b[0;34m(\u001b[0m\u001b[0mx0\u001b[0m\u001b[0;34m,\u001b[0m \u001b[0mas_inexact\u001b[0m\u001b[0;34m=\u001b[0m\u001b[0;32mTrue\u001b[0m\u001b[0;34m)\u001b[0m\u001b[0;34m\u001b[0m\u001b[0;34m\u001b[0m\u001b[0m\n\u001b[0;32m--> 937\u001b[0;31m     \u001b[0;32mreturn\u001b[0m \u001b[0m_fixed_point_helper\u001b[0m\u001b[0;34m(\u001b[0m\u001b[0mfunc\u001b[0m\u001b[0;34m,\u001b[0m \u001b[0mx0\u001b[0m\u001b[0;34m,\u001b[0m \u001b[0margs\u001b[0m\u001b[0;34m,\u001b[0m \u001b[0mxtol\u001b[0m\u001b[0;34m,\u001b[0m \u001b[0mmaxiter\u001b[0m\u001b[0;34m,\u001b[0m \u001b[0muse_accel\u001b[0m\u001b[0;34m)\u001b[0m\u001b[0;34m\u001b[0m\u001b[0;34m\u001b[0m\u001b[0m\n\u001b[0m",
      "\u001b[0;32m~/software/anaconda3/envs/pyfastnbfit/lib/python3.8/site-packages/scipy/optimize/minpack.py\u001b[0m in \u001b[0;36m_fixed_point_helper\u001b[0;34m(func, x0, args, xtol, maxiter, use_accel)\u001b[0m\n\u001b[1;32m    877\u001b[0m     \u001b[0mp0\u001b[0m \u001b[0;34m=\u001b[0m \u001b[0mx0\u001b[0m\u001b[0;34m\u001b[0m\u001b[0;34m\u001b[0m\u001b[0m\n\u001b[1;32m    878\u001b[0m     \u001b[0;32mfor\u001b[0m \u001b[0mi\u001b[0m \u001b[0;32min\u001b[0m \u001b[0mrange\u001b[0m\u001b[0;34m(\u001b[0m\u001b[0mmaxiter\u001b[0m\u001b[0;34m)\u001b[0m\u001b[0;34m:\u001b[0m\u001b[0;34m\u001b[0m\u001b[0;34m\u001b[0m\u001b[0m\n\u001b[0;32m--> 879\u001b[0;31m         \u001b[0mp1\u001b[0m \u001b[0;34m=\u001b[0m \u001b[0mfunc\u001b[0m\u001b[0;34m(\u001b[0m\u001b[0mp0\u001b[0m\u001b[0;34m,\u001b[0m \u001b[0;34m*\u001b[0m\u001b[0margs\u001b[0m\u001b[0;34m)\u001b[0m\u001b[0;34m\u001b[0m\u001b[0;34m\u001b[0m\u001b[0m\n\u001b[0m\u001b[1;32m    880\u001b[0m         \u001b[0;32mif\u001b[0m \u001b[0muse_accel\u001b[0m\u001b[0;34m:\u001b[0m\u001b[0;34m\u001b[0m\u001b[0;34m\u001b[0m\u001b[0m\n\u001b[1;32m    881\u001b[0m             \u001b[0mp2\u001b[0m \u001b[0;34m=\u001b[0m \u001b[0mfunc\u001b[0m\u001b[0;34m(\u001b[0m\u001b[0mp1\u001b[0m\u001b[0;34m,\u001b[0m \u001b[0;34m*\u001b[0m\u001b[0margs\u001b[0m\u001b[0;34m)\u001b[0m\u001b[0;34m\u001b[0m\u001b[0;34m\u001b[0m\u001b[0m\n",
      "\u001b[0;32m<ipython-input-13-e35dcd2f8044>\u001b[0m in \u001b[0;36mgphi\u001b[0;34m(phi, y)\u001b[0m\n\u001b[1;32m      6\u001b[0m     \u001b[0;32mfor\u001b[0m \u001b[0mi\u001b[0m \u001b[0;32min\u001b[0m \u001b[0mrange\u001b[0m\u001b[0;34m(\u001b[0m\u001b[0mn\u001b[0m\u001b[0;34m)\u001b[0m\u001b[0;34m:\u001b[0m\u001b[0;34m\u001b[0m\u001b[0;34m\u001b[0m\u001b[0m\n\u001b[1;32m      7\u001b[0m         \u001b[0;32mfor\u001b[0m \u001b[0mv\u001b[0m \u001b[0;32min\u001b[0m \u001b[0mrange\u001b[0m\u001b[0;34m(\u001b[0m\u001b[0mint\u001b[0m\u001b[0;34m(\u001b[0m\u001b[0my\u001b[0m\u001b[0;34m[\u001b[0m\u001b[0mi\u001b[0m\u001b[0;34m]\u001b[0m\u001b[0;34m)\u001b[0m\u001b[0;34m)\u001b[0m\u001b[0;34m:\u001b[0m\u001b[0;34m\u001b[0m\u001b[0;34m\u001b[0m\u001b[0m\n\u001b[0;32m----> 8\u001b[0;31m             \u001b[0msumterm\u001b[0m \u001b[0;34m+=\u001b[0m \u001b[0mv\u001b[0m\u001b[0;34m/\u001b[0m\u001b[0;34m(\u001b[0m\u001b[0;36m1\u001b[0m\u001b[0;34m+\u001b[0m\u001b[0mphi\u001b[0m\u001b[0;34m*\u001b[0m\u001b[0mv\u001b[0m\u001b[0;34m)\u001b[0m\u001b[0;34m\u001b[0m\u001b[0;34m\u001b[0m\u001b[0m\n\u001b[0m\u001b[1;32m      9\u001b[0m     \u001b[0mg2\u001b[0m \u001b[0;34m=\u001b[0m \u001b[0mnp\u001b[0m\u001b[0;34m.\u001b[0m\u001b[0mlog\u001b[0m\u001b[0;34m(\u001b[0m\u001b[0;36m1\u001b[0m\u001b[0;34m+\u001b[0m\u001b[0mphi\u001b[0m\u001b[0;34m*\u001b[0m\u001b[0mybar\u001b[0m\u001b[0;34m)\u001b[0m\u001b[0;34m\u001b[0m\u001b[0;34m\u001b[0m\u001b[0m\n\u001b[1;32m     10\u001b[0m     \u001b[0mg1\u001b[0m \u001b[0;34m=\u001b[0m \u001b[0mybar\u001b[0m \u001b[0;34m-\u001b[0m \u001b[0mphi\u001b[0m\u001b[0;34m/\u001b[0m\u001b[0mn\u001b[0m\u001b[0;34m*\u001b[0m\u001b[0msumterm\u001b[0m\u001b[0;34m\u001b[0m\u001b[0;34m\u001b[0m\u001b[0m\n",
      "\u001b[0;31mKeyboardInterrupt\u001b[0m: "
     ]
    }
   ],
   "source": [
    "fit_nb_fixedpoint(y)"
   ]
  },
  {
   "cell_type": "code",
   "execution_count": 12,
   "metadata": {
    "execution": {
     "iopub.execute_input": "2021-02-13T23:47:57.821430Z",
     "iopub.status.busy": "2021-02-13T23:47:57.820868Z",
     "iopub.status.idle": "2021-02-13T23:50:26.033426Z",
     "shell.execute_reply": "2021-02-13T23:50:26.031824Z",
     "shell.execute_reply.started": "2021-02-13T23:47:57.821369Z"
    }
   },
   "outputs": [
    {
     "ename": "KeyboardInterrupt",
     "evalue": "",
     "output_type": "error",
     "traceback": [
      "\u001b[0;31m---------------------------------------------------------------------------\u001b[0m",
      "\u001b[0;31mKeyboardInterrupt\u001b[0m                         Traceback (most recent call last)",
      "\u001b[0;32m<ipython-input-12-8d8db9649b2d>\u001b[0m in \u001b[0;36m<module>\u001b[0;34m\u001b[0m\n\u001b[0;32m----> 1\u001b[0;31m \u001b[0mfit_nb_fixedpoint\u001b[0m\u001b[0;34m(\u001b[0m\u001b[0my\u001b[0m\u001b[0;34m)\u001b[0m\u001b[0;34m\u001b[0m\u001b[0;34m\u001b[0m\u001b[0m\n\u001b[0m",
      "\u001b[0;32m<ipython-input-11-62423d47f4a3>\u001b[0m in \u001b[0;36mfit_nb_fixedpoint\u001b[0;34m(y, max_iter)\u001b[0m\n\u001b[1;32m     14\u001b[0m     \u001b[0mybar\u001b[0m \u001b[0;34m=\u001b[0m \u001b[0mnp\u001b[0m\u001b[0;34m.\u001b[0m\u001b[0mmean\u001b[0m\u001b[0;34m(\u001b[0m\u001b[0my\u001b[0m\u001b[0;34m)\u001b[0m\u001b[0;34m\u001b[0m\u001b[0;34m\u001b[0m\u001b[0m\n\u001b[1;32m     15\u001b[0m     \u001b[0mphi_init\u001b[0m \u001b[0;34m=\u001b[0m \u001b[0mlen\u001b[0m\u001b[0;34m(\u001b[0m\u001b[0my\u001b[0m\u001b[0;34m)\u001b[0m\u001b[0;34m/\u001b[0m\u001b[0mlen\u001b[0m\u001b[0;34m(\u001b[0m\u001b[0my\u001b[0m\u001b[0;34m[\u001b[0m\u001b[0my\u001b[0m\u001b[0;34m>=\u001b[0m\u001b[0;36m1\u001b[0m\u001b[0;34m]\u001b[0m\u001b[0;34m)\u001b[0m \u001b[0;34m-\u001b[0m \u001b[0;36m1\u001b[0m\u001b[0;34m/\u001b[0m\u001b[0mybar\u001b[0m\u001b[0;34m\u001b[0m\u001b[0;34m\u001b[0m\u001b[0m\n\u001b[0;32m---> 16\u001b[0;31m     \u001b[0mphi\u001b[0m \u001b[0;34m=\u001b[0m \u001b[0moptimize\u001b[0m\u001b[0;34m.\u001b[0m\u001b[0mfixed_point\u001b[0m\u001b[0;34m(\u001b[0m\u001b[0mgphi\u001b[0m\u001b[0;34m,\u001b[0m \u001b[0mphi_init\u001b[0m\u001b[0;34m,\u001b[0m \u001b[0margs\u001b[0m\u001b[0;34m=\u001b[0m\u001b[0;34m(\u001b[0m\u001b[0;34m[\u001b[0m\u001b[0my\u001b[0m\u001b[0;34m]\u001b[0m\u001b[0;34m)\u001b[0m\u001b[0;34m,\u001b[0m \u001b[0mxtol\u001b[0m\u001b[0;34m=\u001b[0m\u001b[0;36m1e-4\u001b[0m\u001b[0;34m,\u001b[0m \u001b[0mmaxiter\u001b[0m\u001b[0;34m=\u001b[0m\u001b[0;36m200\u001b[0m\u001b[0;34m)\u001b[0m\u001b[0;34m\u001b[0m\u001b[0;34m\u001b[0m\u001b[0m\n\u001b[0m\u001b[1;32m     17\u001b[0m     \u001b[0;32mreturn\u001b[0m \u001b[0;34m{\u001b[0m\u001b[0;34m\"mu\"\u001b[0m\u001b[0;34m:\u001b[0m \u001b[0mybar\u001b[0m\u001b[0;34m,\u001b[0m \u001b[0;34m\"theta\"\u001b[0m\u001b[0;34m:\u001b[0m \u001b[0;36m1\u001b[0m\u001b[0;34m/\u001b[0m\u001b[0mphi\u001b[0m\u001b[0;34m}\u001b[0m\u001b[0;34m\u001b[0m\u001b[0;34m\u001b[0m\u001b[0m\n",
      "\u001b[0;32m~/software/anaconda3/envs/pyfastnbfit/lib/python3.8/site-packages/scipy/optimize/minpack.py\u001b[0m in \u001b[0;36mfixed_point\u001b[0;34m(func, x0, args, xtol, maxiter, method)\u001b[0m\n\u001b[1;32m    935\u001b[0m     \u001b[0muse_accel\u001b[0m \u001b[0;34m=\u001b[0m \u001b[0;34m{\u001b[0m\u001b[0;34m'del2'\u001b[0m\u001b[0;34m:\u001b[0m \u001b[0;32mTrue\u001b[0m\u001b[0;34m,\u001b[0m \u001b[0;34m'iteration'\u001b[0m\u001b[0;34m:\u001b[0m \u001b[0;32mFalse\u001b[0m\u001b[0;34m}\u001b[0m\u001b[0;34m[\u001b[0m\u001b[0mmethod\u001b[0m\u001b[0;34m]\u001b[0m\u001b[0;34m\u001b[0m\u001b[0;34m\u001b[0m\u001b[0m\n\u001b[1;32m    936\u001b[0m     \u001b[0mx0\u001b[0m \u001b[0;34m=\u001b[0m \u001b[0m_asarray_validated\u001b[0m\u001b[0;34m(\u001b[0m\u001b[0mx0\u001b[0m\u001b[0;34m,\u001b[0m \u001b[0mas_inexact\u001b[0m\u001b[0;34m=\u001b[0m\u001b[0;32mTrue\u001b[0m\u001b[0;34m)\u001b[0m\u001b[0;34m\u001b[0m\u001b[0;34m\u001b[0m\u001b[0m\n\u001b[0;32m--> 937\u001b[0;31m     \u001b[0;32mreturn\u001b[0m \u001b[0m_fixed_point_helper\u001b[0m\u001b[0;34m(\u001b[0m\u001b[0mfunc\u001b[0m\u001b[0;34m,\u001b[0m \u001b[0mx0\u001b[0m\u001b[0;34m,\u001b[0m \u001b[0margs\u001b[0m\u001b[0;34m,\u001b[0m \u001b[0mxtol\u001b[0m\u001b[0;34m,\u001b[0m \u001b[0mmaxiter\u001b[0m\u001b[0;34m,\u001b[0m \u001b[0muse_accel\u001b[0m\u001b[0;34m)\u001b[0m\u001b[0;34m\u001b[0m\u001b[0;34m\u001b[0m\u001b[0m\n\u001b[0m",
      "\u001b[0;32m~/software/anaconda3/envs/pyfastnbfit/lib/python3.8/site-packages/scipy/optimize/minpack.py\u001b[0m in \u001b[0;36m_fixed_point_helper\u001b[0;34m(func, x0, args, xtol, maxiter, use_accel)\u001b[0m\n\u001b[1;32m    879\u001b[0m         \u001b[0mp1\u001b[0m \u001b[0;34m=\u001b[0m \u001b[0mfunc\u001b[0m\u001b[0;34m(\u001b[0m\u001b[0mp0\u001b[0m\u001b[0;34m,\u001b[0m \u001b[0;34m*\u001b[0m\u001b[0margs\u001b[0m\u001b[0;34m)\u001b[0m\u001b[0;34m\u001b[0m\u001b[0;34m\u001b[0m\u001b[0m\n\u001b[1;32m    880\u001b[0m         \u001b[0;32mif\u001b[0m \u001b[0muse_accel\u001b[0m\u001b[0;34m:\u001b[0m\u001b[0;34m\u001b[0m\u001b[0;34m\u001b[0m\u001b[0m\n\u001b[0;32m--> 881\u001b[0;31m             \u001b[0mp2\u001b[0m \u001b[0;34m=\u001b[0m \u001b[0mfunc\u001b[0m\u001b[0;34m(\u001b[0m\u001b[0mp1\u001b[0m\u001b[0;34m,\u001b[0m \u001b[0;34m*\u001b[0m\u001b[0margs\u001b[0m\u001b[0;34m)\u001b[0m\u001b[0;34m\u001b[0m\u001b[0;34m\u001b[0m\u001b[0m\n\u001b[0m\u001b[1;32m    882\u001b[0m             \u001b[0md\u001b[0m \u001b[0;34m=\u001b[0m \u001b[0mp2\u001b[0m \u001b[0;34m-\u001b[0m \u001b[0;36m2.0\u001b[0m \u001b[0;34m*\u001b[0m \u001b[0mp1\u001b[0m \u001b[0;34m+\u001b[0m \u001b[0mp0\u001b[0m\u001b[0;34m\u001b[0m\u001b[0;34m\u001b[0m\u001b[0m\n\u001b[1;32m    883\u001b[0m             \u001b[0mp\u001b[0m \u001b[0;34m=\u001b[0m \u001b[0m_lazywhere\u001b[0m\u001b[0;34m(\u001b[0m\u001b[0md\u001b[0m \u001b[0;34m!=\u001b[0m \u001b[0;36m0\u001b[0m\u001b[0;34m,\u001b[0m \u001b[0;34m(\u001b[0m\u001b[0mp0\u001b[0m\u001b[0;34m,\u001b[0m \u001b[0mp1\u001b[0m\u001b[0;34m,\u001b[0m \u001b[0md\u001b[0m\u001b[0;34m)\u001b[0m\u001b[0;34m,\u001b[0m \u001b[0mf\u001b[0m\u001b[0;34m=\u001b[0m\u001b[0m_del2\u001b[0m\u001b[0;34m,\u001b[0m \u001b[0mfillvalue\u001b[0m\u001b[0;34m=\u001b[0m\u001b[0mp2\u001b[0m\u001b[0;34m)\u001b[0m\u001b[0;34m\u001b[0m\u001b[0;34m\u001b[0m\u001b[0m\n",
      "\u001b[0;32m<ipython-input-11-62423d47f4a3>\u001b[0m in \u001b[0;36mgphi\u001b[0;34m(phi, y)\u001b[0m\n\u001b[1;32m      6\u001b[0m     \u001b[0;32mfor\u001b[0m \u001b[0mi\u001b[0m \u001b[0;32min\u001b[0m \u001b[0mrange\u001b[0m\u001b[0;34m(\u001b[0m\u001b[0mn\u001b[0m\u001b[0;34m)\u001b[0m\u001b[0;34m:\u001b[0m\u001b[0;34m\u001b[0m\u001b[0;34m\u001b[0m\u001b[0m\n\u001b[1;32m      7\u001b[0m         \u001b[0;32mfor\u001b[0m \u001b[0mv\u001b[0m \u001b[0;32min\u001b[0m \u001b[0mrange\u001b[0m\u001b[0;34m(\u001b[0m\u001b[0mint\u001b[0m\u001b[0;34m(\u001b[0m\u001b[0my\u001b[0m\u001b[0;34m[\u001b[0m\u001b[0mi\u001b[0m\u001b[0;34m]\u001b[0m\u001b[0;34m)\u001b[0m\u001b[0;34m)\u001b[0m\u001b[0;34m:\u001b[0m\u001b[0;34m\u001b[0m\u001b[0;34m\u001b[0m\u001b[0m\n\u001b[0;32m----> 8\u001b[0;31m             \u001b[0msumterm\u001b[0m \u001b[0;34m+=\u001b[0m \u001b[0mv\u001b[0m\u001b[0;34m/\u001b[0m\u001b[0;34m(\u001b[0m\u001b[0;36m1\u001b[0m\u001b[0;34m+\u001b[0m\u001b[0mphi\u001b[0m\u001b[0;34m*\u001b[0m\u001b[0mv\u001b[0m\u001b[0;34m)\u001b[0m\u001b[0;34m\u001b[0m\u001b[0;34m\u001b[0m\u001b[0m\n\u001b[0m\u001b[1;32m      9\u001b[0m     \u001b[0mg2\u001b[0m \u001b[0;34m=\u001b[0m \u001b[0mnp\u001b[0m\u001b[0;34m.\u001b[0m\u001b[0mlog\u001b[0m\u001b[0;34m(\u001b[0m\u001b[0;36m1\u001b[0m\u001b[0;34m+\u001b[0m\u001b[0mphi\u001b[0m\u001b[0;34m*\u001b[0m\u001b[0mybar\u001b[0m\u001b[0;34m)\u001b[0m\u001b[0;34m\u001b[0m\u001b[0;34m\u001b[0m\u001b[0m\n\u001b[1;32m     10\u001b[0m     \u001b[0mg1\u001b[0m \u001b[0;34m=\u001b[0m \u001b[0mybar\u001b[0m \u001b[0;34m-\u001b[0m \u001b[0mphi\u001b[0m\u001b[0;34m/\u001b[0m\u001b[0mn\u001b[0m\u001b[0;34m*\u001b[0m\u001b[0msumterm\u001b[0m\u001b[0;34m\u001b[0m\u001b[0;34m\u001b[0m\u001b[0m\n",
      "\u001b[0;31mKeyboardInterrupt\u001b[0m: "
     ]
    }
   ],
   "source": [
    "fit_nb_fixedpoint(y)"
   ]
  },
  {
   "cell_type": "code",
   "execution_count": 4,
   "metadata": {
    "execution": {
     "iopub.execute_input": "2021-02-13T23:43:03.022525Z",
     "iopub.status.busy": "2021-02-13T23:43:03.022002Z",
     "iopub.status.idle": "2021-02-13T23:43:03.040108Z",
     "shell.execute_reply": "2021-02-13T23:43:03.038741Z",
     "shell.execute_reply.started": "2021-02-13T23:43:03.022470Z"
    }
   },
   "outputs": [],
   "source": [
    "def trigamma(x):\n",
    "    return polygamma(1,x)\n",
    "\n",
    "def gamma_fit(x, s=None, limit=10):\n",
    "    if s is None:\n",
    "        m = np.mean(x)\n",
    "        s = np.log(m) - np.mean(np.log(x))\n",
    "    else:\n",
    "        # sufficient stats\n",
    "        m = x\n",
    "    \n",
    "    a = 0.5/s\n",
    "    \n",
    "    for i in range(limit):\n",
    "        old_a = a\n",
    "        g = log(a)-s-digamma(a)\n",
    "        h = 1/a - trigamma(a)\n",
    "        a = 1/(1/a + g/(a**2*h))\n",
    "        if(np.abs(a - old_a) < 1e-8):\n",
    "            break\n",
    "    b = m/a\n",
    "    return {\"a\":a, \"b\":b}\n",
    "\n",
    "\n",
    "def fastnegbin_fit(y, w = None, limit=10):\n",
    "    if w is None:\n",
    "        w = [1]*len(y)\n",
    "        \n",
    "    w = w/np.sum(w)\n",
    "    m = np.sum(w*y)\n",
    "    v = np.sum(w*(y - m)**2);\n",
    "    b = v/m - 1\n",
    "    if b < 0:\n",
    "        b <- 1e-3\n",
    "    \n",
    "    a = m/b\n",
    "    for i in range(limit):\n",
    "        old_a = a\n",
    "        # E step\n",
    "        p = b/(1+b)\n",
    "        m = np.sum(w*(y+a)*p)\n",
    "        s = np.log(m) - np.sum(w*(digamma(y+a) + np.log(p)))\n",
    "        # M step\n",
    "        gfit = gamma_fit(m, s)\n",
    "        a = gfit[\"a\"]       \n",
    "        b = gfit[\"b\"]\n",
    "        \n",
    "        if np.abs(a - old_a) < 1e-8:\n",
    "            break  \n",
    "    \n",
    "    \n",
    "    return {\"mu\":m, \"theta\":a}\n"
   ]
  },
  {
   "cell_type": "code",
   "execution_count": 5,
   "metadata": {
    "execution": {
     "iopub.execute_input": "2021-02-13T23:43:03.435749Z",
     "iopub.status.busy": "2021-02-13T23:43:03.435304Z",
     "iopub.status.idle": "2021-02-13T23:43:04.029727Z",
     "shell.execute_reply": "2021-02-13T23:43:04.027888Z",
     "shell.execute_reply.started": "2021-02-13T23:43:03.435698Z"
    }
   },
   "outputs": [],
   "source": [
    "import statsmodels.discrete.discrete_model as dm\n",
    "from scipy.optimize import minimize\n",
    "\n",
    "from scipy.special import digamma, polygamma, gammaln\n",
    "from scipy.special import psi\n",
    "from scipy.special import factorial\n",
    "from scipy.optimize import fmin_l_bfgs_b as optim"
   ]
  },
  {
   "cell_type": "code",
   "execution_count": 6,
   "metadata": {
    "execution": {
     "iopub.execute_input": "2021-02-13T23:43:04.033003Z",
     "iopub.status.busy": "2021-02-13T23:43:04.032525Z",
     "iopub.status.idle": "2021-02-13T23:43:04.044682Z",
     "shell.execute_reply": "2021-02-13T23:43:04.043704Z",
     "shell.execute_reply.started": "2021-02-13T23:43:04.032944Z"
    }
   },
   "outputs": [],
   "source": [
    "def fit_nbinom_lbfgs(x, rmin=1e-1):\n",
    "    \"\"\"\n",
    "    :param kin:\n",
    "    :return:\n",
    "    \"\"\"\n",
    "    k = np.array(x, dtype=np.float)\n",
    "    N = len(k)\n",
    "    sumx = np.sum(k)\n",
    "    xbar = sumx / N\n",
    "\n",
    "    def nll(r):\n",
    "        return (\n",
    "            -np.sum(gammaln(r + k))\n",
    "            + N * gammaln(r)\n",
    "            - N * r * np.log(r / (xbar + r))\n",
    "            - sumx * np.log(xbar / (xbar + r))\n",
    "        )\n",
    "\n",
    "    r = minimize(nll, 1.0, bounds=[(rmin, None)], method=\"L-BFGS-B\")\n",
    "    r = r.x\n",
    "    q = r / (r + np.sum(k / N))  # Note: this `p` = 1 - `p` from Wikipedia\n",
    "    p = 1 - q\n",
    "    return {\"r\": r, \"p\": p}\n"
   ]
  },
  {
   "cell_type": "code",
   "execution_count": 4,
   "metadata": {
    "execution": {
     "iopub.execute_input": "2021-02-13T17:13:10.531842Z",
     "iopub.status.busy": "2021-02-13T17:13:10.531410Z",
     "iopub.status.idle": "2021-02-13T17:13:10.571105Z",
     "shell.execute_reply": "2021-02-13T17:13:10.570390Z",
     "shell.execute_reply.started": "2021-02-13T17:13:10.531791Z"
    }
   },
   "outputs": [
    {
     "data": {
      "text/plain": [
       "{'theta': 0.4701019654086743,\n",
       " 'dispersion': 2.1271980837830973,\n",
       " 'mu': 9.695000648498535,\n",
       " 'iterations': 58}"
      ]
     },
     "execution_count": 4,
     "metadata": {},
     "output_type": "execute_result"
    }
   ],
   "source": [
    "nb = NegativeBinomial(mu=10, theta=1/2)\n",
    "y = nb.sample((200,)).numpy()\n",
    "fastfit_negbin(y, max_iterations=100)"
   ]
  },
  {
   "cell_type": "code",
   "execution_count": 110,
   "metadata": {
    "execution": {
     "iopub.execute_input": "2021-02-13T23:10:46.981387Z",
     "iopub.status.busy": "2021-02-13T23:10:46.980810Z",
     "iopub.status.idle": "2021-02-13T23:10:46.997254Z",
     "shell.execute_reply": "2021-02-13T23:10:46.996407Z",
     "shell.execute_reply.started": "2021-02-13T23:10:46.981324Z"
    }
   },
   "outputs": [
    {
     "data": {
      "text/plain": [
       "{'mu': 10.194999955282313, 'theta': 0.44336981103243495}"
      ]
     },
     "execution_count": 110,
     "metadata": {},
     "output_type": "execute_result"
    }
   ],
   "source": [
    "nb = NegativeBinomial(mu=10, theta=1/2)\n",
    "y = nb.sample((200,)).numpy()\n",
    "fastnegbin_fit(y)"
   ]
  },
  {
   "cell_type": "code",
   "execution_count": 5,
   "metadata": {
    "execution": {
     "iopub.execute_input": "2021-02-13T17:13:16.105368Z",
     "iopub.status.busy": "2021-02-13T17:13:16.104735Z",
     "iopub.status.idle": "2021-02-13T17:13:16.149286Z",
     "shell.execute_reply": "2021-02-13T17:13:16.148272Z",
     "shell.execute_reply.started": "2021-02-13T17:13:16.105304Z"
    }
   },
   "outputs": [
    {
     "data": {
      "text/plain": [
       "{'theta': 0.4701019654086743,\n",
       " 'dispersion': 2.1271980837830973,\n",
       " 'mu': 9.695000648498535,\n",
       " 'iterations': 58}"
      ]
     },
     "execution_count": 5,
     "metadata": {},
     "output_type": "execute_result"
    }
   ],
   "source": [
    "fastfit_negbin(y, max_iterations=230)"
   ]
  },
  {
   "cell_type": "code",
   "execution_count": 6,
   "metadata": {
    "execution": {
     "iopub.execute_input": "2021-02-13T17:13:24.792144Z",
     "iopub.status.busy": "2021-02-13T17:13:24.791675Z",
     "iopub.status.idle": "2021-02-13T17:13:24.810668Z",
     "shell.execute_reply": "2021-02-13T17:13:24.809681Z",
     "shell.execute_reply.started": "2021-02-13T17:13:24.792091Z"
    }
   },
   "outputs": [
    {
     "data": {
      "text/plain": [
       "{'theta': 5102.559627035662,\n",
       " 'dispersion': 0.00019598007139427613,\n",
       " 'mu': 9.695003509521484,\n",
       " 'iterations': 20}"
      ]
     },
     "execution_count": 6,
     "metadata": {},
     "output_type": "execute_result"
    }
   ],
   "source": [
    "fastfit_negbin(y, max_iterations=20)"
   ]
  },
  {
   "cell_type": "code",
   "execution_count": 5,
   "metadata": {
    "execution": {
     "iopub.execute_input": "2021-02-13T06:17:25.534294Z",
     "iopub.status.busy": "2021-02-13T06:17:25.533842Z",
     "iopub.status.idle": "2021-02-13T06:17:25.567583Z",
     "shell.execute_reply": "2021-02-13T06:17:25.566953Z",
     "shell.execute_reply.started": "2021-02-13T06:17:25.534243Z"
    }
   },
   "outputs": [
    {
     "data": {
      "text/plain": [
       "{'dispersion': 0.6207604722052953, 'mu': 108.23500061035156, 'iterations': 20}"
      ]
     },
     "execution_count": 5,
     "metadata": {},
     "output_type": "execute_result"
    }
   ],
   "source": [
    "nb = NegativeBinomial(mu=100, theta=1/2)\n",
    "y = nb.sample((200,)).numpy()\n",
    "fastfit_negbin(y, max_iterations=100)"
   ]
  },
  {
   "cell_type": "code",
   "execution_count": 26,
   "metadata": {
    "execution": {
     "iopub.execute_input": "2021-02-13T06:15:48.824238Z",
     "iopub.status.busy": "2021-02-13T06:15:48.823811Z",
     "iopub.status.idle": "2021-02-13T06:15:48.880749Z",
     "shell.execute_reply": "2021-02-13T06:15:48.880151Z",
     "shell.execute_reply.started": "2021-02-13T06:15:48.824189Z"
    }
   },
   "outputs": [
    {
     "data": {
      "text/plain": [
       "{'dispersion': 0.9376011392175008,\n",
       " 'mu': 0.014999994076788425,\n",
       " 'iterations': 42}"
      ]
     },
     "execution_count": 26,
     "metadata": {},
     "output_type": "execute_result"
    }
   ],
   "source": [
    "nb = NegativeBinomial(mu=0.01, theta=1/2)\n",
    "y = nb.sample((200,)).numpy()\n",
    "fastfit_negbin(y, max_iterations=100)"
   ]
  },
  {
   "cell_type": "code",
   "execution_count": 20,
   "metadata": {
    "execution": {
     "iopub.execute_input": "2021-02-13T06:14:39.533533Z",
     "iopub.status.busy": "2021-02-13T06:14:39.533036Z",
     "iopub.status.idle": "2021-02-13T06:14:39.541419Z",
     "shell.execute_reply": "2021-02-13T06:14:39.540359Z",
     "shell.execute_reply.started": "2021-02-13T06:14:39.533481Z"
    }
   },
   "outputs": [
    {
     "data": {
      "text/plain": [
       "9.4"
      ]
     },
     "execution_count": 20,
     "metadata": {},
     "output_type": "execute_result"
    }
   ],
   "source": [
    "np.mean(y)"
   ]
  },
  {
   "cell_type": "code",
   "execution_count": 21,
   "metadata": {
    "execution": {
     "iopub.execute_input": "2021-02-13T06:14:48.749996Z",
     "iopub.status.busy": "2021-02-13T06:14:48.749556Z",
     "iopub.status.idle": "2021-02-13T06:14:48.756807Z",
     "shell.execute_reply": "2021-02-13T06:14:48.755854Z",
     "shell.execute_reply.started": "2021-02-13T06:14:48.749947Z"
    }
   },
   "outputs": [
    {
     "data": {
      "text/plain": [
       "244.50998"
      ]
     },
     "execution_count": 21,
     "metadata": {},
     "output_type": "execute_result"
    }
   ],
   "source": [
    "np.var(y)"
   ]
  },
  {
   "cell_type": "code",
   "execution_count": 44,
   "metadata": {
    "execution": {
     "iopub.execute_input": "2021-02-13T04:46:32.394382Z",
     "iopub.status.busy": "2021-02-13T04:46:32.393849Z",
     "iopub.status.idle": "2021-02-13T04:46:36.794542Z",
     "shell.execute_reply": "2021-02-13T04:46:36.793124Z",
     "shell.execute_reply.started": "2021-02-13T04:46:32.394324Z"
    }
   },
   "outputs": [
    {
     "name": "stdout",
     "output_type": "stream",
     "text": [
      "5.44 ms ± 337 µs per loop (mean ± std. dev. of 7 runs, 100 loops each)\n"
     ]
    }
   ],
   "source": [
    "%timeit fastfit_negbin(y)"
   ]
  },
  {
   "cell_type": "code",
   "execution_count": 6,
   "metadata": {
    "execution": {
     "iopub.execute_input": "2021-02-13T06:18:06.365556Z",
     "iopub.status.busy": "2021-02-13T06:18:06.364994Z",
     "iopub.status.idle": "2021-02-13T06:18:06.375571Z",
     "shell.execute_reply": "2021-02-13T06:18:06.374247Z",
     "shell.execute_reply.started": "2021-02-13T06:18:06.365502Z"
    }
   },
   "outputs": [],
   "source": [
    "def dispersion_to_rp(mu, phi):\n",
    "    \"\"\" \n",
    "    Convert NB2 parameterization to scipy style\n",
    "    \n",
    "    Parameters\n",
    "    ----------\n",
    "    mu : float \n",
    "        NB2 mean.\n",
    "    phi : float\n",
    "          NB2 variance. phi=0 corresponds to poisson\n",
    "    \"\"\"\n",
    "    var = mu + phi * mu ** 2\n",
    "    p = (var - mu) / var\n",
    "    r = mu ** 2 / (var - mu)\n",
    "    return {\"r\": r, \"p\": p}\n",
    "\n",
    "def rp_to_dispersion(r, p):\n",
    "    \"\"\" \n",
    "    Convert NB2 parameterization to scipy style\n",
    "    \n",
    "    Parameters\n",
    "    ----------\n",
    "    mu : float \n",
    "        NB2 mean.\n",
    "    phi : float\n",
    "          NB2 variance. phi=0 corresponds to poisson\n",
    "    \"\"\"\n",
    "    var = mu + phi * mu ** 2\n",
    "    p = (var - mu) / var\n",
    "    r = mu ** 2 / (var - mu)\n",
    "    mu = r*p/(1-p)\n",
    "    return {\"r\": r, \"p\": p}\n"
   ]
  },
  {
   "cell_type": "code",
   "execution_count": 7,
   "metadata": {
    "execution": {
     "iopub.execute_input": "2021-02-13T23:43:13.609717Z",
     "iopub.status.busy": "2021-02-13T23:43:13.609156Z",
     "iopub.status.idle": "2021-02-13T23:43:13.620779Z",
     "shell.execute_reply": "2021-02-13T23:43:13.619732Z",
     "shell.execute_reply.started": "2021-02-13T23:43:13.609656Z"
    }
   },
   "outputs": [],
   "source": [
    "def fit_nbinom_lbfgs(y, thetamin=1e-1):\n",
    "    N = len(y)\n",
    "    ysum = np.sum(y)\n",
    "    ybar = ysum / N\n",
    "    mu = ybar\n",
    "\n",
    "    def nll(theta):\n",
    "        return (\n",
    "            -np.sum(gammaln(theta + y))\n",
    "            + N * gammaln(theta)            \n",
    "            - ysum * np.log(mu/(theta+mu))            \n",
    "            - N*theta * np.log(theta/(theta+mu))            \n",
    "        )\n",
    "\n",
    "    init_theta = (ybar**2)/(np.var(y)-ybar)\n",
    "    theta = minimize(nll, init_theta, \n",
    "                     bounds=[(thetamin, None)], \n",
    "                     method=\"L-BFGS-B\")\n",
    "    return {\"theta\": theta.x[0], \"mu\": mu}"
   ]
  },
  {
   "cell_type": "code",
   "execution_count": 74,
   "metadata": {
    "execution": {
     "iopub.execute_input": "2021-02-13T21:38:08.786671Z",
     "iopub.status.busy": "2021-02-13T21:38:08.786232Z",
     "iopub.status.idle": "2021-02-13T21:38:08.807204Z",
     "shell.execute_reply": "2021-02-13T21:38:08.806408Z",
     "shell.execute_reply.started": "2021-02-13T21:38:08.786619Z"
    }
   },
   "outputs": [
    {
     "data": {
      "text/plain": [
       "{'theta': 63.805665278180435, 'mu': 10.23}"
      ]
     },
     "execution_count": 74,
     "metadata": {},
     "output_type": "execute_result"
    }
   ],
   "source": [
    "nb = NegativeBinomial(mu=10, theta=200)\n",
    "y = nb.sample((200,)).numpy()\n",
    "#fastfit_negbin(y, max_iterations=100)\n",
    "fit_nbinom_lbfgs(y)"
   ]
  },
  {
   "cell_type": "code",
   "execution_count": 69,
   "metadata": {
    "execution": {
     "iopub.execute_input": "2021-02-13T21:33:12.110569Z",
     "iopub.status.busy": "2021-02-13T21:33:12.110082Z",
     "iopub.status.idle": "2021-02-13T21:33:12.123249Z",
     "shell.execute_reply": "2021-02-13T21:33:12.122475Z",
     "shell.execute_reply.started": "2021-02-13T21:33:12.110515Z"
    }
   },
   "outputs": [
    {
     "data": {
      "text/plain": [
       "{'theta': 1.779857492789595, 'mu': 9.255}"
      ]
     },
     "execution_count": 69,
     "metadata": {},
     "output_type": "execute_result"
    }
   ],
   "source": [
    "fit_nbinom_lbfgs(y)"
   ]
  },
  {
   "cell_type": "code",
   "execution_count": 8,
   "metadata": {
    "execution": {
     "iopub.execute_input": "2021-02-13T23:43:24.806230Z",
     "iopub.status.busy": "2021-02-13T23:43:24.805650Z",
     "iopub.status.idle": "2021-02-13T23:43:24.823891Z",
     "shell.execute_reply": "2021-02-13T23:43:24.823091Z",
     "shell.execute_reply.started": "2021-02-13T23:43:24.806169Z"
    }
   },
   "outputs": [],
   "source": [
    "\n",
    "def fit_nbinom_sm(x):\n",
    "    params = dm.NegativeBinomial(x, np.ones_like(x)).fit(maxiter=200000, disp=0).params\n",
    "    mu = np.exp(params[0])\n",
    "    alpha = params[1]\n",
    "    r = alpha ** -1\n",
    "    p = r / (r + mu)\n",
    "    \n",
    "    return {\"mu\": mu, \"theta\": 1/alpha}\n",
    "\n",
    "\n",
    "def fit_nbinom_gokceneraslan(X, initial_params=None):\n",
    "    infinitesimal = np.finfo(np.float).eps\n",
    "\n",
    "    def log_likelihood(params, *args):\n",
    "        r, p = params\n",
    "        X = args[0]\n",
    "        N = X.size\n",
    "\n",
    "        # MLE estimate based on the formula on Wikipedia:\n",
    "        # http://en.wikipedia.org/wiki/Negative_binomial_distribution#Maximum_likelihood_estimation\n",
    "        result = (\n",
    "            np.sum(gammaln(X + r))\n",
    "            - np.sum(np.log(factorial(X)))\n",
    "            - N * (gammaln(r))\n",
    "            + N * r * np.log(p)\n",
    "            + np.sum(X * np.log(1 - (p if p < 1 else 1 - infinitesimal)))\n",
    "        )\n",
    "\n",
    "        return -result\n",
    "\n",
    "    def log_likelihood_deriv(params, *args):\n",
    "        r, p = params\n",
    "        X = args[0]\n",
    "        N = X.size\n",
    "\n",
    "        pderiv = (N * r) / p - np.sum(X) / (1 - (p if p < 1 else 1 - infinitesimal))\n",
    "        rderiv = np.sum(psi(X + r)) - N * psi(r) + N * np.log(p)\n",
    "\n",
    "        return np.array([-rderiv, -pderiv])\n",
    "\n",
    "    if initial_params is None:\n",
    "        # reasonable initial values (from fitdistr function in R)\n",
    "        m = np.mean(X)\n",
    "        v = np.var(X)\n",
    "        size = (m ** 2) / (v - m) if v > m else 10\n",
    "\n",
    "        # convert mu/size parameterization to prob/size\n",
    "        p0 = size / ((size + m) if size + m != 0 else 1)\n",
    "        r0 = size\n",
    "        initial_params = np.array([r0, p0])\n",
    "\n",
    "    bounds = [(infinitesimal, None), (infinitesimal, 1)]\n",
    "    optimres = optim(\n",
    "        log_likelihood,\n",
    "        x0=initial_params,\n",
    "        # fprime=log_likelihood_deriv,\n",
    "        args=(X,),\n",
    "        approx_grad=1,\n",
    "        bounds=bounds,\n",
    "    )\n",
    "\n",
    "    params = optimres[0]\n",
    "    mu = (1-params[1])*params[0]/params[1]\n",
    "    return {\"theta\": params[0], \"prob\": params[1], \"mu\":mu}"
   ]
  },
  {
   "cell_type": "code",
   "execution_count": 24,
   "metadata": {
    "execution": {
     "iopub.execute_input": "2021-02-13T06:27:37.903981Z",
     "iopub.status.busy": "2021-02-13T06:27:37.903517Z",
     "iopub.status.idle": "2021-02-13T06:27:37.992470Z",
     "shell.execute_reply": "2021-02-13T06:27:37.991860Z",
     "shell.execute_reply.started": "2021-02-13T06:27:37.903929Z"
    }
   },
   "outputs": [
    {
     "data": {
      "text/plain": [
       "{'dispersion': 0.4933504381240379, 'mu': 8.835000038146973, 'iterations': 91}"
      ]
     },
     "execution_count": 24,
     "metadata": {},
     "output_type": "execute_result"
    }
   ],
   "source": [
    "nb = NegativeBinomial(mu=10, theta=1/2)\n",
    "y = nb.sample((200,)).numpy()\n",
    "fastfit_negbin(y, max_iterations=100)"
   ]
  },
  {
   "cell_type": "code",
   "execution_count": 9,
   "metadata": {
    "execution": {
     "iopub.execute_input": "2021-02-13T23:43:32.032226Z",
     "iopub.status.busy": "2021-02-13T23:43:32.031665Z",
     "iopub.status.idle": "2021-02-13T23:43:32.062456Z",
     "shell.execute_reply": "2021-02-13T23:43:32.061473Z",
     "shell.execute_reply.started": "2021-02-13T23:43:32.032167Z"
    }
   },
   "outputs": [
    {
     "data": {
      "text/plain": [
       "{'mu': 9.695, 'theta': 0.4701366616989222}"
      ]
     },
     "execution_count": 9,
     "metadata": {},
     "output_type": "execute_result"
    }
   ],
   "source": [
    "fit_nbinom_sm(y)"
   ]
  },
  {
   "cell_type": "code",
   "execution_count": 25,
   "metadata": {
    "execution": {
     "iopub.execute_input": "2021-02-13T06:27:45.973557Z",
     "iopub.status.busy": "2021-02-13T06:27:45.972941Z",
     "iopub.status.idle": "2021-02-13T06:27:45.997527Z",
     "shell.execute_reply": "2021-02-13T06:27:45.996739Z",
     "shell.execute_reply.started": "2021-02-13T06:27:45.973494Z"
    }
   },
   "outputs": [
    {
     "name": "stderr",
     "output_type": "stream",
     "text": [
      "/gpfs/commons/home/schoudhary/software/anaconda3/envs/pyfastnbfit/lib/python3.8/site-packages/scipy/optimize/_numdiff.py:497: RuntimeWarning: invalid value encountered in subtract\n",
      "  df = fun(x) - f0\n"
     ]
    },
    {
     "data": {
      "text/plain": [
       "{'theta': 0.5254864807830589,\n",
       " 'prob': 0.05613880002074141,\n",
       " 'mu': 8.83500003814697}"
      ]
     },
     "execution_count": 25,
     "metadata": {},
     "output_type": "execute_result"
    }
   ],
   "source": [
    "fit_nbinom_gokceneraslan(y)"
   ]
  },
  {
   "cell_type": "code",
   "execution_count": 30,
   "metadata": {
    "execution": {
     "iopub.execute_input": "2021-02-13T06:30:00.288018Z",
     "iopub.status.busy": "2021-02-13T06:30:00.287574Z",
     "iopub.status.idle": "2021-02-13T06:30:00.300779Z",
     "shell.execute_reply": "2021-02-13T06:30:00.300017Z",
     "shell.execute_reply.started": "2021-02-13T06:30:00.287968Z"
    }
   },
   "outputs": [
    {
     "data": {
      "text/plain": [
       "{'theta': 0.493352894261752, 'mu': 8.835000000000006}"
      ]
     },
     "execution_count": 30,
     "metadata": {},
     "output_type": "execute_result"
    }
   ],
   "source": [
    "fit_nbinom_lbfgs(y)"
   ]
  },
  {
   "cell_type": "code",
   "execution_count": 53,
   "metadata": {
    "execution": {
     "iopub.execute_input": "2021-02-13T05:20:45.679675Z",
     "iopub.status.busy": "2021-02-13T05:20:45.679139Z",
     "iopub.status.idle": "2021-02-13T05:20:45.691736Z",
     "shell.execute_reply": "2021-02-13T05:20:45.690484Z",
     "shell.execute_reply.started": "2021-02-13T05:20:45.679620Z"
    }
   },
   "outputs": [
    {
     "name": "stderr",
     "output_type": "stream",
     "text": [
      "/gpfs/commons/home/schoudhary/software/anaconda3/envs/pyfastnbfit/lib/python3.8/site-packages/pyfastnbfit-0.1.0-py3.8-linux-x86_64.egg/pyfastnbfit/pyfastnbfit.py:135: RuntimeWarning: invalid value encountered in double_scalars\n",
      "  b = xmean / xvar - 1\n"
     ]
    },
    {
     "data": {
      "text/plain": [
       "{'dispersion': nan, 'mu': nan, 'iterations': 0}"
      ]
     },
     "execution_count": 53,
     "metadata": {},
     "output_type": "execute_result"
    }
   ],
   "source": [
    "params = dispersion_to_rp(mu=100, phi=10)\n",
    "y = nbinom.rvs(n=params[\"r\"], p=params[\"p\"], size=1000)\n",
    "fastfit_negbin(y)"
   ]
  },
  {
   "cell_type": "code",
   "execution_count": 52,
   "metadata": {
    "execution": {
     "iopub.execute_input": "2021-02-13T05:15:15.374715Z",
     "iopub.status.busy": "2021-02-13T05:15:15.374265Z",
     "iopub.status.idle": "2021-02-13T05:15:15.415052Z",
     "shell.execute_reply": "2021-02-13T05:15:15.413966Z",
     "shell.execute_reply.started": "2021-02-13T05:15:15.374666Z"
    }
   },
   "outputs": [
    {
     "name": "stderr",
     "output_type": "stream",
     "text": [
      "/gpfs/commons/home/schoudhary/software/anaconda3/envs/pyfastnbfit/lib/python3.8/site-packages/scipy/optimize/_numdiff.py:497: RuntimeWarning: invalid value encountered in subtract\n",
      "  df = fun(x) - f0\n"
     ]
    },
    {
     "data": {
      "text/plain": [
       "{'size': 1.7040818360556866, 'prob': 0.019855520094885157}"
      ]
     },
     "execution_count": 52,
     "metadata": {},
     "output_type": "execute_result"
    }
   ],
   "source": [
    "fit_nbinom_gokcen(y)"
   ]
  },
  {
   "cell_type": "code",
   "execution_count": 35,
   "metadata": {
    "execution": {
     "iopub.execute_input": "2021-02-13T06:56:43.641792Z",
     "iopub.status.busy": "2021-02-13T06:56:43.641229Z",
     "iopub.status.idle": "2021-02-13T06:56:43.649400Z",
     "shell.execute_reply": "2021-02-13T06:56:43.648345Z",
     "shell.execute_reply.started": "2021-02-13T06:56:43.641717Z"
    }
   },
   "outputs": [
    {
     "data": {
      "text/plain": [
       "{'dispersion': nan, 'mu': nan, 'iterations': 2}"
      ]
     },
     "execution_count": 35,
     "metadata": {},
     "output_type": "execute_result"
    }
   ],
   "source": [
    "results_fastfit"
   ]
  },
  {
   "cell_type": "code",
   "execution_count": 21,
   "metadata": {
    "execution": {
     "iopub.execute_input": "2021-02-14T05:00:04.609205Z",
     "iopub.status.busy": "2021-02-14T05:00:04.608687Z",
     "iopub.status.idle": "2021-02-14T05:04:24.561792Z",
     "shell.execute_reply": "2021-02-14T05:04:24.560337Z",
     "shell.execute_reply.started": "2021-02-14T05:00:04.609150Z"
    }
   },
   "outputs": [
    {
     "ename": "RuntimeError",
     "evalue": "Failed to converge after 200 iterations, value is nan",
     "output_type": "error",
     "traceback": [
      "\u001b[0;31m---------------------------------------------------------------------------\u001b[0m",
      "\u001b[0;31mRuntimeError\u001b[0m                              Traceback (most recent call last)",
      "\u001b[0;32m<ipython-input-21-c1358fbfeeb7>\u001b[0m in \u001b[0;36m<module>\u001b[0;34m\u001b[0m\n\u001b[1;32m     50\u001b[0m \u001b[0;34m\u001b[0m\u001b[0m\n\u001b[1;32m     51\u001b[0m             \u001b[0mstart\u001b[0m \u001b[0;34m=\u001b[0m \u001b[0mtime\u001b[0m\u001b[0;34m.\u001b[0m\u001b[0mtime\u001b[0m\u001b[0;34m(\u001b[0m\u001b[0;34m)\u001b[0m\u001b[0;34m\u001b[0m\u001b[0;34m\u001b[0m\u001b[0m\n\u001b[0;32m---> 52\u001b[0;31m             \u001b[0mresults_fp\u001b[0m \u001b[0;34m=\u001b[0m \u001b[0mfit_nb_fixedpoint\u001b[0m\u001b[0;34m(\u001b[0m\u001b[0my\u001b[0m\u001b[0;34m)\u001b[0m\u001b[0;34m\u001b[0m\u001b[0;34m\u001b[0m\u001b[0m\n\u001b[0m\u001b[1;32m     53\u001b[0m             \u001b[0mend\u001b[0m \u001b[0;34m=\u001b[0m \u001b[0mtime\u001b[0m\u001b[0;34m.\u001b[0m\u001b[0mtime\u001b[0m\u001b[0;34m(\u001b[0m\u001b[0;34m)\u001b[0m\u001b[0;34m\u001b[0m\u001b[0;34m\u001b[0m\u001b[0m\n\u001b[1;32m     54\u001b[0m             \u001b[0mtime_diff\u001b[0m \u001b[0;34m=\u001b[0m \u001b[0mend\u001b[0m \u001b[0;34m-\u001b[0m \u001b[0mstart\u001b[0m\u001b[0;34m\u001b[0m\u001b[0;34m\u001b[0m\u001b[0m\n",
      "\u001b[0;32m<ipython-input-17-e35dcd2f8044>\u001b[0m in \u001b[0;36mfit_nb_fixedpoint\u001b[0;34m(y, max_iter, xtol)\u001b[0m\n\u001b[1;32m     14\u001b[0m     \u001b[0mybar\u001b[0m \u001b[0;34m=\u001b[0m \u001b[0mnp\u001b[0m\u001b[0;34m.\u001b[0m\u001b[0mmean\u001b[0m\u001b[0;34m(\u001b[0m\u001b[0my\u001b[0m\u001b[0;34m)\u001b[0m\u001b[0;34m\u001b[0m\u001b[0;34m\u001b[0m\u001b[0m\n\u001b[1;32m     15\u001b[0m     \u001b[0mphi_init\u001b[0m \u001b[0;34m=\u001b[0m \u001b[0mlen\u001b[0m\u001b[0;34m(\u001b[0m\u001b[0my\u001b[0m\u001b[0;34m)\u001b[0m\u001b[0;34m/\u001b[0m\u001b[0mlen\u001b[0m\u001b[0;34m(\u001b[0m\u001b[0my\u001b[0m\u001b[0;34m[\u001b[0m\u001b[0my\u001b[0m\u001b[0;34m>=\u001b[0m\u001b[0;36m1\u001b[0m\u001b[0;34m]\u001b[0m\u001b[0;34m)\u001b[0m \u001b[0;34m-\u001b[0m \u001b[0;36m1\u001b[0m\u001b[0;34m/\u001b[0m\u001b[0mybar\u001b[0m\u001b[0;34m\u001b[0m\u001b[0;34m\u001b[0m\u001b[0m\n\u001b[0;32m---> 16\u001b[0;31m     \u001b[0mphi\u001b[0m \u001b[0;34m=\u001b[0m \u001b[0moptimize\u001b[0m\u001b[0;34m.\u001b[0m\u001b[0mfixed_point\u001b[0m\u001b[0;34m(\u001b[0m\u001b[0mgphi\u001b[0m\u001b[0;34m,\u001b[0m \u001b[0mphi_init\u001b[0m\u001b[0;34m,\u001b[0m \u001b[0margs\u001b[0m\u001b[0;34m=\u001b[0m\u001b[0;34m(\u001b[0m\u001b[0;34m[\u001b[0m\u001b[0my\u001b[0m\u001b[0;34m]\u001b[0m\u001b[0;34m)\u001b[0m\u001b[0;34m,\u001b[0m \u001b[0mxtol\u001b[0m\u001b[0;34m=\u001b[0m\u001b[0mxtol\u001b[0m\u001b[0;34m,\u001b[0m \u001b[0mmaxiter\u001b[0m\u001b[0;34m=\u001b[0m\u001b[0mmax_iter\u001b[0m\u001b[0;34m)\u001b[0m\u001b[0;34m\u001b[0m\u001b[0;34m\u001b[0m\u001b[0m\n\u001b[0m\u001b[1;32m     17\u001b[0m     \u001b[0;32mreturn\u001b[0m \u001b[0;34m{\u001b[0m\u001b[0;34m\"mu\"\u001b[0m\u001b[0;34m:\u001b[0m \u001b[0mybar\u001b[0m\u001b[0;34m,\u001b[0m \u001b[0;34m\"theta\"\u001b[0m\u001b[0;34m:\u001b[0m \u001b[0;36m1\u001b[0m\u001b[0;34m/\u001b[0m\u001b[0mphi\u001b[0m\u001b[0;34m}\u001b[0m\u001b[0;34m\u001b[0m\u001b[0;34m\u001b[0m\u001b[0m\n",
      "\u001b[0;32m~/software/anaconda3/envs/pyfastnbfit/lib/python3.8/site-packages/scipy/optimize/minpack.py\u001b[0m in \u001b[0;36mfixed_point\u001b[0;34m(func, x0, args, xtol, maxiter, method)\u001b[0m\n\u001b[1;32m    935\u001b[0m     \u001b[0muse_accel\u001b[0m \u001b[0;34m=\u001b[0m \u001b[0;34m{\u001b[0m\u001b[0;34m'del2'\u001b[0m\u001b[0;34m:\u001b[0m \u001b[0;32mTrue\u001b[0m\u001b[0;34m,\u001b[0m \u001b[0;34m'iteration'\u001b[0m\u001b[0;34m:\u001b[0m \u001b[0;32mFalse\u001b[0m\u001b[0;34m}\u001b[0m\u001b[0;34m[\u001b[0m\u001b[0mmethod\u001b[0m\u001b[0;34m]\u001b[0m\u001b[0;34m\u001b[0m\u001b[0;34m\u001b[0m\u001b[0m\n\u001b[1;32m    936\u001b[0m     \u001b[0mx0\u001b[0m \u001b[0;34m=\u001b[0m \u001b[0m_asarray_validated\u001b[0m\u001b[0;34m(\u001b[0m\u001b[0mx0\u001b[0m\u001b[0;34m,\u001b[0m \u001b[0mas_inexact\u001b[0m\u001b[0;34m=\u001b[0m\u001b[0;32mTrue\u001b[0m\u001b[0;34m)\u001b[0m\u001b[0;34m\u001b[0m\u001b[0;34m\u001b[0m\u001b[0m\n\u001b[0;32m--> 937\u001b[0;31m     \u001b[0;32mreturn\u001b[0m \u001b[0m_fixed_point_helper\u001b[0m\u001b[0;34m(\u001b[0m\u001b[0mfunc\u001b[0m\u001b[0;34m,\u001b[0m \u001b[0mx0\u001b[0m\u001b[0;34m,\u001b[0m \u001b[0margs\u001b[0m\u001b[0;34m,\u001b[0m \u001b[0mxtol\u001b[0m\u001b[0;34m,\u001b[0m \u001b[0mmaxiter\u001b[0m\u001b[0;34m,\u001b[0m \u001b[0muse_accel\u001b[0m\u001b[0;34m)\u001b[0m\u001b[0;34m\u001b[0m\u001b[0;34m\u001b[0m\u001b[0m\n\u001b[0m",
      "\u001b[0;32m~/software/anaconda3/envs/pyfastnbfit/lib/python3.8/site-packages/scipy/optimize/minpack.py\u001b[0m in \u001b[0;36m_fixed_point_helper\u001b[0;34m(func, x0, args, xtol, maxiter, use_accel)\u001b[0m\n\u001b[1;32m    889\u001b[0m         \u001b[0mp0\u001b[0m \u001b[0;34m=\u001b[0m \u001b[0mp\u001b[0m\u001b[0;34m\u001b[0m\u001b[0;34m\u001b[0m\u001b[0m\n\u001b[1;32m    890\u001b[0m     \u001b[0mmsg\u001b[0m \u001b[0;34m=\u001b[0m \u001b[0;34m\"Failed to converge after %d iterations, value is %s\"\u001b[0m \u001b[0;34m%\u001b[0m \u001b[0;34m(\u001b[0m\u001b[0mmaxiter\u001b[0m\u001b[0;34m,\u001b[0m \u001b[0mp\u001b[0m\u001b[0;34m)\u001b[0m\u001b[0;34m\u001b[0m\u001b[0;34m\u001b[0m\u001b[0m\n\u001b[0;32m--> 891\u001b[0;31m     \u001b[0;32mraise\u001b[0m \u001b[0mRuntimeError\u001b[0m\u001b[0;34m(\u001b[0m\u001b[0mmsg\u001b[0m\u001b[0;34m)\u001b[0m\u001b[0;34m\u001b[0m\u001b[0;34m\u001b[0m\u001b[0m\n\u001b[0m\u001b[1;32m    892\u001b[0m \u001b[0;34m\u001b[0m\u001b[0m\n\u001b[1;32m    893\u001b[0m \u001b[0;34m\u001b[0m\u001b[0m\n",
      "\u001b[0;31mRuntimeError\u001b[0m: Failed to converge after 200 iterations, value is nan"
     ]
    }
   ],
   "source": [
    "mu_diff = defaultdict(list)\n",
    "theta_diff = defaultdict(list)\n",
    "time_diff = defaultdict(list)\n",
    "params = []\n",
    "\n",
    "mu_seq =  [100, 50, 20, 10, 5, 2, 1, 0.1, 0.01]#, 0.0001]\n",
    "theta_seq = [100, 50, 20, 10, 5, 2, 1, 0.1, 0.01]#, 0.0001]\n",
    "\n",
    "\n",
    "fit_params = []\n",
    "for i in range(1, 5):\n",
    "    for mu in mu_seq:\n",
    "        for theta in theta_seq:\n",
    "            nb = NegativeBinomial(mu=mu, theta=theta)\n",
    "            y = nb.sample((5000,)).numpy()\n",
    "            params.append((mu, theta))\n",
    "\n",
    "            start = time.time()\n",
    "            results_fastfit = fastfit_negbin(y)\n",
    "            end = time.time()\n",
    "            time_diff = end - start\n",
    "            fit_params.append((mu, theta, \"fastnegbin\", time_diff,\n",
    "                               results_fastfit[\"mu\"], results_fastfit[\"theta\"]))\n",
    "\n",
    "\n",
    "            start = time.time()\n",
    "            results_gokceneraslan = fit_nbinom_gokceneraslan(y)\n",
    "            end = time.time()\n",
    "            time_diff = end - start\n",
    "            fit_params.append((mu, theta, \"fit_nbinom_gokceneraslan\",\n",
    "                               time_diff, results_gokceneraslan[\"mu\"],\n",
    "                               results_gokceneraslan[\"theta\"]))\n",
    "\n",
    "\n",
    "            start = time.time()\n",
    "            results_sm = fit_nbinom_sm(y)\n",
    "            end = time.time()\n",
    "            time_diff = end - start\n",
    "            fit_params.append((mu, theta, \"fit_nbinom_sm\",\n",
    "                       time_diff, results_sm[\"mu\"],\n",
    "                       results_sm[\"theta\"]))\n",
    "\n",
    "            start = time.time()\n",
    "            results_lbfgs = fit_nbinom_lbfgs(y)\n",
    "            end = time.time()\n",
    "            time_diff = end - start\n",
    "            fit_params.append((mu, theta, \"fit_nbinom_lbfgs\",\n",
    "               time_diff, results_lbfgs[\"mu\"],\n",
    "               results_lbfgs[\"theta\"]))\n",
    "            \n",
    "            start = time.time()\n",
    "            results_fp = fit_nb_fixedpoint(y)\n",
    "            end = time.time()\n",
    "            time_diff = end - start\n",
    "            fit_params.append((mu, theta, \"fit_nb_fixedpoint\",\n",
    "               time_diff, results_fp[\"mu\"],\n",
    "               results_fp[\"theta\"]))\n",
    "            \n",
    "            \n",
    "            \n"
   ]
  },
  {
   "cell_type": "code",
   "execution_count": 22,
   "metadata": {
    "execution": {
     "iopub.execute_input": "2021-02-14T05:07:03.074174Z",
     "iopub.status.busy": "2021-02-14T05:07:03.073577Z",
     "iopub.status.idle": "2021-02-14T05:07:03.083189Z",
     "shell.execute_reply": "2021-02-14T05:07:03.081872Z",
     "shell.execute_reply.started": "2021-02-14T05:07:03.074111Z"
    }
   },
   "outputs": [
    {
     "data": {
      "text/plain": [
       "100"
      ]
     },
     "execution_count": 22,
     "metadata": {},
     "output_type": "execute_result"
    }
   ],
   "source": [
    "mu"
   ]
  },
  {
   "cell_type": "code",
   "execution_count": 23,
   "metadata": {
    "execution": {
     "iopub.execute_input": "2021-02-14T05:07:07.879185Z",
     "iopub.status.busy": "2021-02-14T05:07:07.878616Z",
     "iopub.status.idle": "2021-02-14T05:07:07.887250Z",
     "shell.execute_reply": "2021-02-14T05:07:07.885784Z",
     "shell.execute_reply.started": "2021-02-14T05:07:07.879124Z"
    }
   },
   "outputs": [
    {
     "data": {
      "text/plain": [
       "0.1"
      ]
     },
     "execution_count": 23,
     "metadata": {},
     "output_type": "execute_result"
    }
   ],
   "source": [
    "theta"
   ]
  },
  {
   "cell_type": "code",
   "execution_count": null,
   "metadata": {
    "execution": {
     "iopub.status.busy": "2021-02-14T05:04:24.562779Z",
     "iopub.status.idle": "2021-02-14T05:04:24.563002Z",
     "shell.execute_reply": "2021-02-14T05:04:24.562896Z"
    }
   },
   "outputs": [],
   "source": [
    "df = pd.DataFrame(fit_params)\n",
    "df.columns = [\"mu\", \"theta\", \"method\", \"time\", \"mu_pred\", \"theta_pred\"]\n",
    "df[\"mu_diff\"] = df[\"mu_pred\"] - df[\"mu\"]\n",
    "df[\"theta_diff\"] = df[\"theta_pred\"] - df[\"theta\"]\n",
    "df[\"log_time\"] = np.log10(df[\"time\"])\n",
    "df.loc[df.theta_pred>10**4, \"theta_pred\"] = 10**3\n",
    "df[\"theta_diff\"] = df[\"theta_pred\"] - df[\"theta\"]\n",
    "\n",
    "import seaborn as sns\n",
    "sns.violinplot(x=\"method\", y=\"log_time\", data=df)"
   ]
  },
  {
   "cell_type": "code",
   "execution_count": null,
   "metadata": {
    "execution": {
     "iopub.status.busy": "2021-02-14T05:04:24.563631Z",
     "iopub.status.idle": "2021-02-14T05:04:24.563833Z",
     "shell.execute_reply": "2021-02-14T05:04:24.563731Z"
    }
   },
   "outputs": [],
   "source": [
    "sns.violinplot(x=\"method\", y=\"mu_diff\", data=df)"
   ]
  },
  {
   "cell_type": "code",
   "execution_count": null,
   "metadata": {
    "execution": {
     "iopub.status.busy": "2021-02-14T05:04:24.564633Z",
     "iopub.status.idle": "2021-02-14T05:04:24.564839Z",
     "shell.execute_reply": "2021-02-14T05:04:24.564735Z"
    }
   },
   "outputs": [],
   "source": [
    "fig, ax = plt.subplots()\n",
    "sns.violinplot(x=\"method\", y=\"theta_diff\", data=df, ax=ax)\n",
    "#ax.set(yscale=\"log\")\n"
   ]
  },
  {
   "cell_type": "code",
   "execution_count": null,
   "metadata": {
    "execution": {
     "iopub.status.busy": "2021-02-14T05:04:24.565313Z",
     "iopub.status.idle": "2021-02-14T05:04:24.565501Z",
     "shell.execute_reply": "2021-02-14T05:04:24.565410Z"
    }
   },
   "outputs": [],
   "source": [
    "df.loc[df.theta_diff>100]"
   ]
  },
  {
   "cell_type": "code",
   "execution_count": 96,
   "metadata": {
    "execution": {
     "iopub.execute_input": "2021-02-13T22:05:46.622464Z",
     "iopub.status.busy": "2021-02-13T22:05:46.622024Z",
     "iopub.status.idle": "2021-02-13T22:05:52.446153Z",
     "shell.execute_reply": "2021-02-13T22:05:52.444463Z",
     "shell.execute_reply.started": "2021-02-13T22:05:46.622412Z"
    }
   },
   "outputs": [],
   "source": [
    "import plotnine"
   ]
  },
  {
   "cell_type": "code",
   "execution_count": null,
   "metadata": {},
   "outputs": [],
   "source": [
    "p1 <- ggplot(predictions.factored, aes(N, estimate)) +  \n",
    "geom_line(aes(color = true, linetype=true), size=1.5) +  \n",
    "scale_color_brewer(palette=\"Paired\") + \n",
    "geom_hline(yintercept = theta_seq, linetype=\"dashed\") + \n",
    "scale_x_log10() +\n",
    "scale_y_log10() +\n",
    "labs(x = expression(N), \n",
    "   y = expression(theta[\"estimated\"]))\n",
    "p1"
   ]
  },
  {
   "cell_type": "code",
   "execution_count": null,
   "metadata": {},
   "outputs": [],
   "source": [
    "sns.(x=\"method\", y=\"theta_diff\", data=df, ax=ax)\n"
   ]
  },
  {
   "cell_type": "code",
   "execution_count": 3,
   "metadata": {
    "execution": {
     "iopub.execute_input": "2021-02-13T04:16:08.575623Z",
     "iopub.status.busy": "2021-02-13T04:16:08.575171Z",
     "iopub.status.idle": "2021-02-13T04:16:08.602798Z",
     "shell.execute_reply": "2021-02-13T04:16:08.601642Z",
     "shell.execute_reply.started": "2021-02-13T04:16:08.575571Z"
    }
   },
   "outputs": [
    {
     "data": {
      "text/plain": [
       "{'dispersion': 33.30970983755638, 'mu': 208.07999999999996, 'iterations': 11}"
      ]
     },
     "execution_count": 3,
     "metadata": {},
     "output_type": "execute_result"
    }
   ],
   "source": [
    "a = 30\n",
    "b = 7\n",
    "p = 1 / (b + 1)\n",
    "y = nbinom.rvs(n=a, p=1 / (b + 1), size=100)\n",
    "fastfit_negbin(y)"
   ]
  },
  {
   "cell_type": "code",
   "execution_count": 6,
   "metadata": {
    "execution": {
     "iopub.execute_input": "2021-02-13T04:22:59.767574Z",
     "iopub.status.busy": "2021-02-13T04:22:59.767038Z",
     "iopub.status.idle": "2021-02-13T04:22:59.795671Z",
     "shell.execute_reply": "2021-02-13T04:22:59.794977Z",
     "shell.execute_reply.started": "2021-02-13T04:22:59.767520Z"
    }
   },
   "outputs": [
    {
     "name": "stdout",
     "output_type": "stream",
     "text": [
      "10.0 10\n"
     ]
    },
    {
     "data": {
      "text/plain": [
       "{'dispersion': 10.886168685322538, 'mu': 91.18, 'iterations': 9}"
      ]
     },
     "execution_count": 6,
     "metadata": {},
     "output_type": "execute_result"
    }
   ],
   "source": [
    "theta = 10\n",
    "p = 0.5\n",
    "mu = theta*p/(1-p)\n",
    "print(mu, theta)\n",
    "y = np.random.negative_binomial(n = 10, p = 0.1, size = 100)\n",
    "\n",
    "fastfit_negbin(y)"
   ]
  },
  {
   "cell_type": "code",
   "execution_count": null,
   "metadata": {},
   "outputs": [],
   "source": []
  },
  {
   "cell_type": "code",
   "execution_count": 3,
   "metadata": {
    "execution": {
     "iopub.execute_input": "2020-09-16T22:42:59.766611Z",
     "iopub.status.busy": "2020-09-16T22:42:59.766480Z",
     "iopub.status.idle": "2020-09-16T22:42:59.782134Z",
     "shell.execute_reply": "2020-09-16T22:42:59.780871Z",
     "shell.execute_reply.started": "2020-09-16T22:42:59.766595Z"
    }
   },
   "outputs": [
    {
     "name": "stdout",
     "output_type": "stream",
     "text": [
      "205,185,185,245,217,336,281,273,176,180,226,285,133,221,206,252,238,152,189,196,150,193,215,166,181,163,183,207,217,204,156,206,148,183,163,150,278,206,236,185,226,170,248,219,193,197,300,219,190,214,177,194,192,194,221,197,235,255,156,187,251,287,196,214,213,269,181,180,193,249,226,223,222,212,207,196,241,201,181,173,266,147,314,230,220,148,208,182,154,177,187,188,269,180,178,248,206,216,192,244\n"
     ]
    }
   ],
   "source": [
    "print(\",\".join(map(lambda x: str(x), y)))"
   ]
  },
  {
   "cell_type": "raw",
   "metadata": {},
   "source": [
    "# Check in R\n",
    "> y <- c(190,230,231,258,230,130,168,152,328,190,206,209,253,179,241,158,262,173,228,211,217,194,177,243,294,216,223,221,186,242,217,239,183,303,269,192,223,230,191,151,187,226,315,257,231,163,166,171,236,165,172,146,180,165,148,170,177,193,234,192,142,176,213,178,138,196,272,256,190,250,221,211,242,223,173,225,193,173,217,217,147,257,212,214,186,145,132,201,263,177,138,196,206,189,146,197,215,192,165,154)\n",
    "> fitdistr(y, \"Negative Binomial\")\n",
    "\n",
    "      size          mu    \n",
    "   28.980280   203.700000 \n",
    " (  4.659329) (  4.044120)\n"
   ]
  },
  {
   "cell_type": "code",
   "execution_count": 4,
   "metadata": {
    "execution": {
     "iopub.execute_input": "2020-09-16T22:42:59.783043Z",
     "iopub.status.busy": "2020-09-16T22:42:59.782883Z",
     "iopub.status.idle": "2020-09-16T22:42:59.813051Z",
     "shell.execute_reply": "2020-09-16T22:42:59.811788Z",
     "shell.execute_reply.started": "2020-09-16T22:42:59.783024Z"
    }
   },
   "outputs": [
    {
     "data": {
      "text/plain": [
       "{'a': 405.471773981185,\n",
       " 'b': 0.024134848904313857,\n",
       " 'p': 0.9764339149965116,\n",
       " 'dispersion': 17205.733320624266,\n",
       " 'mu': 9.785999999999998,\n",
       " 'iterations': 20}"
      ]
     },
     "execution_count": 4,
     "metadata": {},
     "output_type": "execute_result"
    }
   ],
   "source": [
    "# test a poisson\n",
    "#x4 <- rnegbin(500, mu = 10, theta = 400)\n",
    "y = [6,10,8,11,8,12,9,12,13,10,10,9,7,6,10,5,8,10,9,9,10,12,3,9,6,9,8,11,6,6,11,9,12,14,12,11,6,7,13,8,7,7,13,6,5,17,7,11,7,12,6,16,8,6,10,8,8,8,11,6,8,9,10,8,11,17,10,10,10,13,13,9,10,6,5,9,5,9,13,11,8,8,8,7,10,9,14,6,11,11,8,4,11,7,5,6,13,13,8,9,10,8,12,12,4,9,11,16,11,8,9,6,10,6,16,18,7,10,12,9,10,8,4,6,6,14,9,11,11,9,10,9,12,11,7,9,7,10,8,10,12,8,14,7,14,9,3,7,10,10,11,8,5,10,12,8,10,11,13,14,9,7,13,14,8,10,18,8,14,12,10,4,19,7,5,7,12,6,8,9,8,11,13,10,12,12,8,7,11,10,9,6,11,6,6,10,10,5,8,14,9,12,11,10,8,10,8,9,10,14,12,13,5,7,16,13,11,13,14,8,9,9,17,11,12,9,10,7,9,12,16,9,15,12,5,9,9,5,16,6,8,10,10,10,9,13,16,12,11,15,16,8,7,13,13,16,8,7,9,11,10,10,9,7,7,8,13,7,7,8,10,16,5,10,11,8,7,12,18,8,13,11,12,8,11,9,8,12,7,11,8,7,12,16,6,7,12,10,9,17,10,15,11,10,8,9,12,11,10,13,10,10,11,15,11,6,10,8,10,10,6,9,17,7,13,10,14,7,12,12,6,13,9,12,5,7,10,12,8,5,11,11,12,14,11,15,6,11,14,16,6,11,10,13,7,7,2,12,11,13,9,9,11,16,8,14,6,14,7,4,10,6,11,11,9,14,11,13,10,3,8,16,17,13,8,9,7,9,15,17,8,3,5,9,12,11,8,15,10,19,13,12,12,9,14,12,12,10,10,9,12,13,8,6,9,10,10,8,8,6,12,7,11,7,6,9,12,7,9,13,7,7,11,9,6,9,10,10,7,14,11,8,14,7,9,12,6,6,15,10,13,12,2,4,9,13,11,5,11,4,5,12,12,6,8,9,9,10,6,9,9,10,6,9,6,4,9,12,12,8,7,9,12,9,6,10,9,15,14,14,9,16,12,9,11,6,10,11,7,3]\n",
    "fastfit_negbin(y)"
   ]
  }
 ],
 "metadata": {
  "kernelspec": {
   "display_name": "Python [conda env:pyfastnbfit]",
   "language": "python",
   "name": "conda-env-pyfastnbfit-py"
  },
  "language_info": {
   "codemirror_mode": {
    "name": "ipython",
    "version": 3
   },
   "file_extension": ".py",
   "mimetype": "text/x-python",
   "name": "python",
   "nbconvert_exporter": "python",
   "pygments_lexer": "ipython3",
   "version": "3.8.5"
  }
 },
 "nbformat": 4,
 "nbformat_minor": 4
}
